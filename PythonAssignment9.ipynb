{
 "cells": [
  {
   "attachments": {},
   "cell_type": "markdown",
   "metadata": {},
   "source": [
    "#### 1. To what does a relative path refer?\n",
    "\n",
    "Ans1.    In Python , a relative path refers to a file or directory path that is specified relative to the current working directory of the  program, rather than specifying the full path from the root directory.\n",
    "\n"
   ]
  },
  {
   "attachments": {},
   "cell_type": "markdown",
   "metadata": {},
   "source": [
    "#### 2. What does an absolute path start with your operating system?\n",
    "Ans2) An absolute path refers to the complete path of a file or directory, starting from the root directory of the operating system.\n"
   ]
  },
  {
   "attachments": {},
   "cell_type": "markdown",
   "metadata": {},
   "source": [
    "#### 3. What do the functions os.getcwd() and os.chdir() do?\n",
    "Ans3.) os.getcwd() returns the current working directory (cwd) of the Python script or program. The current working directory is the directory in which the script is currently executing. This function takes no arguments and returns a string representing the current working directory.\n",
    "\n",
    "os.chdir(path) changes the current working directory to the directory specified by the path argument. This function takes a single argument, which should be a string representing the path of the new working directory. The os.chdir() function changes the working directory of the Python script or program to the specified path.\n"
   ]
  },
  {
   "attachments": {},
   "cell_type": "markdown",
   "metadata": {},
   "source": [
    "#### 4. What are the . and .. folders?\n",
    "Ans 4)In many operating systems, including Unix-based systems (such as Linux and macOS) and Windows, the . (dot) and .. (dot-dot) folders are special folders that are used to represent the current directory and the parent directory, respectively.\n",
    "\n",
    "The . folder is a reference to the current directory, and it is commonly used to specify the current directory in file paths or command-line commands. For example, if the current directory is /home/user/data, the file example.txt in the current directory can be referenced as ./example.txt or simply example.txt.\n"
   ]
  },
  {
   "attachments": {},
   "cell_type": "markdown",
   "metadata": {},
   "source": [
    "#### 5.)In C:\\bacon\\eggs\\spam.txt, which part is the dir name, and which part is the base name?\n",
    "\n",
    "Ans 5.) In the file path C:\\bacon\\eggs\\spam.txt, the directory name is C:\\bacon\\eggs, and the base name is spam.txt.\n",
    "\n"
   ]
  },
  {
   "attachments": {},
   "cell_type": "markdown",
   "metadata": {},
   "source": [
    "#### 6. What are the three “mode” arguments that can be passed to the open() function?\n",
    "Ans 6) There are three basic modes that can be passed to the open() function:\n",
    "\n",
    "a) \"r\" (read mode): This mode opens the file for reading. It is the default mode if no mode is specified. When a file is opened in read mode, it can be read from but not written to. If the specified file does not exist, the open() function will raise a FileNotFoundError.\n",
    "\n",
    "b) \"w\" (write mode): This mode opens the file for writing. When a file is opened in write mode, its contents are cleared, and any data that is written to the file will overwrite its existing contents. If the specified file does not exist, it will be created. If the file already exists, it will be truncated to zero length.\n",
    "\n",
    "c) \"a\" (append mode): This mode opens the file for appending. When a file is opened in append mode, new data is written to the end of the file, without overwriting its existing contents. If the specified file does not exist, it will be created.\n"
   ]
  },
  {
   "attachments": {},
   "cell_type": "markdown",
   "metadata": {},
   "source": [
    "#### 7. What happens if an existing file is opened in write mode?\n",
    "Ans 7) If an existing file is opened in write mode (\"w\"), the contents of the file will be cleared and any data that is written to the file will overwrite its existing contents. In other words, the original contents of the file will be completely deleted and replaced with the new data that is written to the file.\n",
    "\n",
    "If the specified file does not exist, it will be created. But if it already exists, it will be truncated to zero length and the previous data in the file will be lost.\n"
   ]
  },
  {
   "attachments": {},
   "cell_type": "markdown",
   "metadata": {},
   "source": [
    "#### 8. How do you tell the difference between read() and readlines()?\n",
    "Ans 8) In Python, read() and readlines() are both methods that can be used to read data from a file object. However, they differ in how they read the data and return the results.\n",
    "\n",
    "The read() method reads the entire contents of the file as a string and returns it. This means that it reads all of the characters in the file, including newlines and other special characters. The read() method takes an optional argument that specifies the number of bytes to read from the file. If no argument is provided, read() will read the entire file.\n",
    "\n",
    "The readlines() method, on the other hand, reads the entire contents of the file into a list of strings, where each string is a line from the file. This means that it reads the file line by line, and each line is stored as a separate string in the list. The readlines() method does not include the newline characters in the strings.\n"
   ]
  },
  {
   "attachments": {},
   "cell_type": "markdown",
   "metadata": {},
   "source": [
    "#### 9. What data structure does a shelf value resemble?\n",
    "Ans 8) In Python, a shelf value is similar to a dictionary. A shelf is a persistent dictionary-like object that is stored on disk, rather than in memory like a regular dictionary. It can be used to store and retrieve key-value pairs just like a dictionary, but the data is stored in a file on disk and can be accessed across multiple runs of a Python program.\n",
    "\n",
    "The shelf module provides a simple interface for creating and managing persistent shelf objects. It uses a dictionary-like API, where you can use keys to store and retrieve values. "
   ]
  },
  {
   "cell_type": "markdown",
   "metadata": {},
   "source": []
  }
 ],
 "metadata": {
  "language_info": {
   "name": "python"
  },
  "orig_nbformat": 4
 },
 "nbformat": 4,
 "nbformat_minor": 2
}

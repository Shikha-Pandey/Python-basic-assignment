{
 "cells": [
  {
   "attachments": {},
   "cell_type": "markdown",
   "metadata": {},
   "source": [
    "1. What is the relationship between def statements and lambda expressions ?\n",
    "\n",
    "Ans1. Both def statements and lambda expressions are used to define functions in Python. However, def statements are used to define a function that can be called multiple times, whereas lambda expressions are used to define an anonymous function that can be used once or as an argument to another function."
   ]
  },
  {
   "attachments": {},
   "cell_type": "markdown",
   "metadata": {},
   "source": [
    "2. What is the benefit of lambda?\n",
    "Ans2.The benefit of lambda is that it allows you to write functions without defining a name for them. This can be useful in situations where you only need to use the function once, or when you want to pass a function as an argument to another function."
   ]
  },
  {
   "attachments": {},
   "cell_type": "markdown",
   "metadata": {},
   "source": [
    "3. Compare and contrast map, filter, and reduce.\n",
    "Ans3. map, filter, and reduce are all built-in Python functions used for functional programming. map applies a function to each element of an iterable and returns a new iterable with the results. filter applies a function to each element of an iterable and returns a new iterable containing only the elements for which the function returned True. reduce applies a function to the elements of an iterable and returns a single value."
   ]
  },
  {
   "attachments": {},
   "cell_type": "markdown",
   "metadata": {},
   "source": [
    "4. What are function annotations, and how are they used?\n",
    "Ans4. Function annotations are a way to add metadata to function arguments and return values. They are defined using a colon followed by the annotation after the argument or return value in the function definition. Function annotations are primarily used for documentation purposes and do not affect the behavior of the function."
   ]
  },
  {
   "attachments": {},
   "cell_type": "markdown",
   "metadata": {},
   "source": [
    "5. What are recursive functions, and how are they used?\n",
    "Ans5. Recursive functions are functions that call themselves. They are used to solve problems that can be broken down into smaller, similar problems, and can be more elegant and concise than iterative solutions. However, recursive functions can be less efficient and may be prone to stack overflow errors if not properly implemented."
   ]
  },
  {
   "attachments": {},
   "cell_type": "markdown",
   "metadata": {},
   "source": [
    "6. What are some general design guidelines for coding functions?\n",
    "Ans6. Some general design guidelines for coding functions include making them small and modular, giving them clear and descriptive names, using meaningful variable names, avoiding global variables, and using comments and documentation to explain their purpose and behavior."
   ]
  },
  {
   "attachments": {},
   "cell_type": "markdown",
   "metadata": {},
   "source": [
    "7. Name three or more ways that functions can communicate results to a caller.\n",
    "Ans7. Functions can communicate results to a caller in several ways, including returning a value using the return statement, modifying an input parameter in place, raising an exception to signal an error or exceptional condition, printing output to the console or a file, or using a callback function to pass results back to the caller."
   ]
  }
 ],
 "metadata": {
  "language_info": {
   "name": "python"
  },
  "orig_nbformat": 4
 },
 "nbformat": 4,
 "nbformat_minor": 2
}

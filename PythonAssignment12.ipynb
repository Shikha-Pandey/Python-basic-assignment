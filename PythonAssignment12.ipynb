{
 "cells": [
  {
   "attachments": {},
   "cell_type": "markdown",
   "metadata": {},
   "source": [
    "#### 1. In what modes should the PdfFileReader() and PdfFileWriter() File objects will be opened?\n",
    "Ans 1) when working with PdfFileReader() and PdfFileWriter() objects , you should open the PDF file in binary read mode ('rb') for reading and binary write mode ('wb') for writing.\n"
   ]
  },
  {
   "attachments": {},
   "cell_type": "markdown",
   "metadata": {},
   "source": [
    "#### 2. From a PdfFileReader object, how do you get a Page object for page 5?\n",
    "Ans 2) To get a Page object for page 5 from a PdfFileReader object in PyPDF2, you can use the getPage() method, which accepts a zero-based page number as an argument. So to get a Page object for page 5, which is the sixth page (since page numbers start at 0), you can use the following code:\n",
    "\n",
    "###### with open('example.pdf', 'rb') as pdf_file:\n",
    "\n",
    "###### pdf_reader = PyPDF2.PdfFileReader(pdf_file)\n",
    "\n",
    "######  page_5 = pdf_reader.getPage(5)\n",
    "\n"
   ]
  },
  {
   "attachments": {},
   "cell_type": "markdown",
   "metadata": {},
   "source": [
    "#### 3. What PdfFileReader variable stores the number of pages in the PDF document?\n",
    "Ans 3) The PdfFileReader variable that stores the number of pages in a PDF document in PyPDF2 is numPages.numPages is an attribute of a PdfFileReader object that stores the total number of pages in the PDF document.\n"
   ]
  },
  {
   "attachments": {},
   "cell_type": "markdown",
   "metadata": {},
   "source": [
    "#### 4. If a PdfFileReader object’s PDF is encrypted with the password swordfish, what must you do before you can obtain Page objects from it?\n",
    "Ans 4) If a PdfFileReader object's PDF is encrypted with a password, such as \"swordfish\", you must first decrypt the PDF before you can obtain Page objects from it. To do this , you must call the decrypt() method on the PdfFileReader object and pass in the password as a string.\n",
    "\n",
    "Here's an example of how to decrypt a password-protected PDF and obtain a Page object:\n",
    "\n",
    "import PyPDF2\n",
    "\n",
    "##### Open the password-protected PDF file in binary read mode\n",
    "\n",
    "with open('example.pdf', 'rb') as pdf_file:\n",
    "\n",
    "##### Create a PdfFileReader object\n",
    "\n",
    "    pdf_reader = PyPDF2.PdfFileReader(pdf_file)\n",
    "\n",
    "##### Decrypt the PDF with the password 'swordfish'\n",
    "\n",
    "    pdf_reader.decrypt('swordfish')\n",
    "\n",
    "##### Get the Page object for page 1\n",
    "    \n",
    "    page_1 = pdf_reader.getPage(0)"
   ]
  },
  {
   "attachments": {},
   "cell_type": "markdown",
   "metadata": {},
   "source": [
    "#### 5. What methods do you use to rotate a page?\n",
    "Ans 5) To rotate a page in PyPDF2, we use the rotateClockwise() and rotateCounterClockwise() methods on a Page object. These methods rotate the page clockwise or counterclockwise by 90 degrees, respectively.\n",
    "\n",
    "\n"
   ]
  },
  {
   "attachments": {},
   "cell_type": "markdown",
   "metadata": {},
   "source": [
    "#### 6. What is the difference between a Run object and a Paragraph object?\n",
    "Ans 6) In Python, a Run object and a Paragraph object are both part of the python-docx library, which is used to create and modify Microsoft Word documents programmatically.\n",
    "       The key difference between a Run object and a Paragraph object is that a Run object represents a single contiguous sequence of characters with a common set of formatting attributes, while a Paragraph object represents a block of text with a common set of formatting attributes.\n",
    "       For example, a paragraph might contain multiple sentences or multiple lines of text, but all of the text within the paragraph will have the same font size, font style, etc. In contrast, a run might represent a single word or phrase within the paragraph that is formatted differently from the rest of the text, such as being bolded or italicized.\n",
    "\n",
    "\n"
   ]
  },
  {
   "attachments": {},
   "cell_type": "markdown",
   "metadata": {},
   "source": [
    "#### 7. How do you obtain a list of Paragraph objects for a Document object that’s stored in a variable named doc?\n",
    "Ans 7) To obtain a list of Paragraph objects for a Document object stored in a variable named doc using the python-docx library, you can use the paragraphs attribute of the doc\n",
    "       object.\n",
    "       eg.  \n",
    "       import docx \n",
    "\n",
    "       # Load the document\n",
    "       doc = docx.Document('example.docx')\n",
    "\n",
    "       # Get the list of Paragraph objects\n",
    "       paragraphs = doc.paragraphs\n",
    "\n",
    "       # Print the text of each Paragraph object\n",
    "       for p in paragraphs:\n",
    "       print(p.text)\n"
   ]
  },
  {
   "attachments": {},
   "cell_type": "markdown",
   "metadata": {},
   "source": [
    "#### 8. What type of object has bold, underline, italic, strike, and outline variables?\n",
    "Ans 8) In Python, a common type of object that has bold, underline, italic, strike, and outline variables is the Font object in the openpyxl.styles module, which is used for working with fonts and text formatting in Excel spreadsheets.\n",
    "\n",
    "eg\n"
   ]
  },
  {
   "cell_type": "code",
   "execution_count": 9,
   "metadata": {},
   "outputs": [],
   "source": [
    "from openpyxl.styles import Font\n",
    "\n",
    "# Create a Font object with bold, italic, and underline styles\n",
    "font = Font(bold=True, italic=True, underline='single')\n"
   ]
  },
  {
   "attachments": {},
   "cell_type": "markdown",
   "metadata": {},
   "source": [
    "#### 9. What is the difference between False, True, and None for the bold variable?\n",
    "Ans 9) In most programming languages, including Python, False, True, and None are boolean values that represent logical truth values.\n",
    "\n",
    "In the context of the bold variable in a font object, False would mean that the font is not bold, True would mean that the font is bold, and None would mean that the font should inherit its bold setting from its parent object (e.g., a cell or a style).\n"
   ]
  },
  {
   "attachments": {},
   "cell_type": "markdown",
   "metadata": {},
   "source": [
    "#### 10. How do you create a Document object for a new Word document?\n",
    "Ans 10) To create a Document object for a new Word document in Python using the docx library.\n"
   ]
  },
  {
   "cell_type": "code",
   "execution_count": 10,
   "metadata": {},
   "outputs": [],
   "source": [
    "import docx\n",
    "document = docx.Document()\n",
    "# Add a paragraph to the document\n",
    "paragraph = document.add_paragraph('Hello, world!')\n",
    "document.save('my_document.docx')\n"
   ]
  },
  {
   "attachments": {},
   "cell_type": "markdown",
   "metadata": {},
   "source": [
    "#### 11. How do you add a paragraph with the text 'Hello, there!' to a Document object stored in a variable named doc?\n",
    "Ans 11) To add a paragraph with the text 'Hello, there!' to a Document object stored in a variable named doc, we can use the add_paragraph() method of the Document object as follows:"
   ]
  },
  {
   "cell_type": "code",
   "execution_count": 11,
   "metadata": {},
   "outputs": [],
   "source": [
    "import docx\n",
    "\n",
    "# Create a new document object\n",
    "doc = docx.Document()\n",
    "\n",
    "# Add a paragraph with the text 'Hello, there!'\n",
    "doc.add_paragraph('Hello, there!')\n",
    "\n",
    "# Save the document\n",
    "doc.save('my_document.docx')\n"
   ]
  },
  {
   "attachments": {},
   "cell_type": "markdown",
   "metadata": {},
   "source": [
    "#### 12. What integers represent the levels of headings available in Word documents?\n",
    "Ans 12 ) In Word documents, the levels of headings are usually represented by integer values from 1 to 9, where 1 represents the highest level of heading and 9 represents the lowest level of heading.\n",
    "\n",
    "Here's an overview of the default heading levels in Word:\n",
    "\n",
    "Heading 1: Level 1\n",
    "\n",
    "Heading 2: Level 2\n",
    "\n",
    "Heading 3: Level 3\n",
    "\n",
    "Heading 4: Level 4\n",
    "\n",
    "Heading 5: Level 5\n",
    "\n",
    "Heading 6: Level 6\n",
    "\n",
    "Heading 7: Level 7\n",
    "\n",
    "Heading 8: Level 8\n",
    "\n",
    "Heading 9: Level 9"
   ]
  },
  {
   "cell_type": "markdown",
   "metadata": {},
   "source": []
  }
 ],
 "metadata": {
  "kernelspec": {
   "display_name": "base",
   "language": "python",
   "name": "python3"
  },
  "language_info": {
   "codemirror_mode": {
    "name": "ipython",
    "version": 3
   },
   "file_extension": ".py",
   "mimetype": "text/x-python",
   "name": "python",
   "nbconvert_exporter": "python",
   "pygments_lexer": "ipython3",
   "version": "3.9.12"
  },
  "orig_nbformat": 4,
  "vscode": {
   "interpreter": {
    "hash": "835930cdab659cfe0998f909845533c8bce739076c1411aa039e952001a7acf8"
   }
  }
 },
 "nbformat": 4,
 "nbformat_minor": 2
}

{
 "cells": [
  {
   "attachments": {},
   "cell_type": "markdown",
   "metadata": {},
   "source": [
    "#### 1. How do you distinguish between shutil.copy() and shutil.copytree()?\n",
    "Ans 1) In Python, the shutil module provides functions for copying files and directories. The two main functions for copying are shutil.copy() and shutil.copytree(). Here's how to distinguish between them:\n",
    "\n",
    "shutil.copy(src, dst) copies a single file from the src path to the dst path. The src argument is the path to the source file, and the dst argument is the path to the destination file. If the destination file exists, it will be overwritten. If the dst argument specifies a directory, the file will be copied into that directory with the same name as the original file.\n",
    "\n",
    "shutil.copytree(src, dst) copies an entire directory tree from the src path to the dst path. If the destination directory already exists, the function will raise an error. If the dst argument does not exist, it will be created. All files and subdirectories in the src directory will be recursively copied to the dst directory.\n"
   ]
  },
  {
   "attachments": {},
   "cell_type": "markdown",
   "metadata": {},
   "source": [
    "#### 2. What function is used to rename files?\n",
    "Ans 2) In Python, the os.rename() function is used to rename files. The function takes two arguments: the current name of the file and the new name of the file. Here's the syntax:\n",
    "\n",
    "import os\n",
    "\n",
    "current_name = 'old_name.txt'\n",
    "\n",
    "new_name = 'new_name.txt'\n",
    "\n",
    "os.rename(current_name, new_name)\n",
    "\n",
    "\n"
   ]
  },
  {
   "attachments": {},
   "cell_type": "markdown",
   "metadata": {},
   "source": [
    "#### 3. What is the difference between the delete functions in the send2trash and shutil modules?\n",
    "Ans 3) directories in Python. However, there are some key differences between these modules and their delete functions:\n",
    "\n",
    "The send2trash module sends files and directories to the operating system's trash or recycle bin instead of permanently deleting them. This means that files and directories can be easily recovered if they are deleted by mistake. The module provides a single function for sending items to the trash: send2trash.send2trash(). This function takes a single argument, which is the path to the file or directory that you want to send to the trash.\n",
    "\n",
    "The shutil module provides several functions for deleting files and directories, including os.remove(), os.unlink(), os.rmdir(), and shutil.rmtree(). These functions permanently delete files and directories, and they do not send them to the trash or recycle bin. The os.remove() and os.unlink() functions are used to delete files, while the os.rmdir() function is used to delete empty directories. The shutil.rmtree() function is used to delete non-empty directories and their contents recursively.\n"
   ]
  },
  {
   "attachments": {},
   "cell_type": "markdown",
   "metadata": {},
   "source": [
    "#### 4.ZipFile objects have a close() method just like File objects’ close() method. What ZipFile method is equivalent to File objects’ open() method?\n"
   ]
  },
  {
   "attachments": {},
   "cell_type": "markdown",
   "metadata": {},
   "source": [
    "#### 5. Create a programme that searches a folder tree for files with a certain file extension (such as .pdf or .jpg). Copy these files from whatever location they are in to a new folder.\n",
    "Ans 5) "
   ]
  },
  {
   "cell_type": "code",
   "execution_count": 1,
   "metadata": {},
   "outputs": [],
   "source": [
    "import os\n",
    "import shutil\n",
    "\n",
    "# Function to search for files with a certain file extension and copy them to a new folder\n",
    "def copy_files_with_extension(src_folder, dst_folder, extension):\n",
    "    # Create the destination folder if it does not exist\n",
    "    if not os.path.exists(dst_folder):\n",
    "        os.makedirs(dst_folder)\n",
    "    \n",
    "    # Traverse the source folder tree and copy files with the specified extension to the destination folder\n",
    "    for dirpath, dirnames, filenames in os.walk(src_folder):\n",
    "        for filename in filenames:\n",
    "            if filename.endswith(extension):\n",
    "                src_path = os.path.join(dirpath, filename)\n",
    "                dst_path = os.path.join(dst_folder, filename)\n",
    "                shutil.copy2(src_path, dst_path)\n",
    "                print(f\"Copied {src_path} to {dst_path}\")\n",
    "\n",
    "# Example usage\n",
    "src_folder = \"/path/to/source/folder\"\n",
    "dst_folder = \"/path/to/destination/folder\"\n",
    "extension = \".pdf\"\n",
    "copy_files_with_extension(src_folder, dst_folder, extension)"
   ]
  },
  {
   "cell_type": "code",
   "execution_count": null,
   "metadata": {},
   "outputs": [],
   "source": []
  }
 ],
 "metadata": {
  "kernelspec": {
   "display_name": "base",
   "language": "python",
   "name": "python3"
  },
  "language_info": {
   "codemirror_mode": {
    "name": "ipython",
    "version": 3
   },
   "file_extension": ".py",
   "mimetype": "text/x-python",
   "name": "python",
   "nbconvert_exporter": "python",
   "pygments_lexer": "ipython3",
   "version": "3.9.12"
  },
  "orig_nbformat": 4,
  "vscode": {
   "interpreter": {
    "hash": "835930cdab659cfe0998f909845533c8bce739076c1411aa039e952001a7acf8"
   }
  }
 },
 "nbformat": 4,
 "nbformat_minor": 2
}

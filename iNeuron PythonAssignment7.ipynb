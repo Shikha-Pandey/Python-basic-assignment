{
 "cells": [
  {
   "cell_type": "raw",
   "id": "deb88708",
   "metadata": {},
   "source": [
    "1.     What is the name of the feature responsible for generating Regex objects?\n",
    "\n",
    "Ans1.  The re.compile() function returns Regex object\n"
   ]
  },
  {
   "cell_type": "raw",
   "id": "86394e06",
   "metadata": {},
   "source": [
    "2.     Why do raw strings often appear in Regex objects?\n",
    "\n",
    "Ans2.  Raw strings are used so that backslashes do not have to be escaped\n"
   ]
  },
  {
   "cell_type": "raw",
   "id": "d2812c01",
   "metadata": {},
   "source": [
    "3.    What is the return value of the search() method?\n",
    "\n",
    "Ans3. The search() method returns Match objects"
   ]
  },
  {
   "cell_type": "raw",
   "id": "ccd247fc",
   "metadata": {},
   "source": [
    "4.    From a Match item, how do you get the actual strings that match the pattern?\n",
    "\n",
    "Ans4. The group() method returns strings of the matched text."
   ]
  },
  {
   "cell_type": "raw",
   "id": "901a346d",
   "metadata": {},
   "source": [
    "5.     In the regex which created from the r'(\\d\\d\\d)-(\\d\\d\\d-\\d\\d\\d\\d)', what does group zero cover? Group 2? Group 1?\n",
    "\n",
    "Ans5.  Group 0 is the entire match, group 1 covers the first set of parentheses, and group 2 covers the second set of                  parentheses"
   ]
  },
  {
   "cell_type": "raw",
   "id": "44b6c7f0",
   "metadata": {},
   "source": [
    "6.     In standard expression syntax, parentheses and intervals have distinct meanings. How can you tell a regex that you want          it to fit real parentheses and periods?\n",
    "\n",
    "Ans6. Periods and parentheses can be escaped with a backslash: \\., \\(, and \\).\n"
   ]
  },
  {
   "cell_type": "raw",
   "id": "ffa8d1c0",
   "metadata": {},
   "source": [
    "7.    The findall() method returns a string list or a list of string tuples. What causes it to return one of the two options?\n",
    "\n",
    "Ans7.  If the regex has no groups, a list of strings is returned. If the regex has groups, a list of tuples of strings is              returned"
   ]
  },
  {
   "cell_type": "raw",
   "id": "a3f6414d",
   "metadata": {},
   "source": [
    "8.     In standard expressions, what does the | character mean?\n",
    "\n",
    "Ans8.  The | character signifies matching “either, or” between two groups."
   ]
  },
  {
   "cell_type": "raw",
   "id": "1992ceaa",
   "metadata": {},
   "source": [
    "9.    In regular expressions, what does the character stand for?\n",
    "\n",
    "Ans9.   character is not mentioned"
   ]
  },
  {
   "cell_type": "raw",
   "id": "93bc15e8",
   "metadata": {},
   "source": [
    "10.     In regular expressions, what is the difference between the + and * characters?\n",
    "\n",
    "Ans10.  The + matches one or more. The * matches zero or more."
   ]
  },
  {
   "cell_type": "raw",
   "id": "61e03f7d",
   "metadata": {},
   "source": [
    "11.    What is the difference between {4} and {4,5} in regular expression?\n",
    "\n",
    "Ans11. The {4} matches exactly three instances of the preceding group. The {4,5} matches between four and five instances."
   ]
  },
  {
   "cell_type": "raw",
   "id": "ed01e982",
   "metadata": {},
   "source": [
    "12.    What do you mean by the \\d, \\w, and \\s shorthand character classes signify in regular expressions?\n",
    "\n",
    "Ans12. The \\d, \\w, and \\s shorthand character classes match a single digit, word, or space character, respectively."
   ]
  },
  {
   "cell_type": "raw",
   "id": "1a915297",
   "metadata": {},
   "source": [
    "13.    What do means by \\D, \\W, and \\S shorthand character classes signify in regular expressions?\n",
    "\n",
    "Ans13. The \\D, \\W, and \\S shorthand character classes match a single character that is not a digit, word, or space character,          respectively."
   ]
  },
  {
   "cell_type": "raw",
   "id": "19fd6f90",
   "metadata": {},
   "source": [
    "14.    What is the difference between .*? and .*?\n",
    "\n",
    "Ans14. The .* performs a greedy match, and the .*? performs a nongreedy match.\n",
    "\n"
   ]
  },
  {
   "cell_type": "raw",
   "id": "c6fd035d",
   "metadata": {},
   "source": [
    "15.    What is the syntax for matching both numbers and lowercase letters with a character class?\n",
    "\n",
    "Ans15. Either [0-9a-z] or [a-z0-9]"
   ]
  },
  {
   "cell_type": "raw",
   "id": "e7da4d27",
   "metadata": {},
   "source": [
    "16.    What is the procedure for making a normal expression in regax case insensitive?\n",
    "\n",
    "Ans16. Passing re.I or re.IGNORECASE as the second argument to re.compile() will make the matching case insensitive."
   ]
  },
  {
   "cell_type": "raw",
   "id": "8d5959f3",
   "metadata": {},
   "source": [
    "17.    What does the . character normally match? What does it match if re.DOTALL is passed as 2nd argument in re.compile()?\n",
    "\n",
    "Ans17. The . character normally matches any character except the newline character. If re.DOTALL is passed as the second                argument to re.compile(), then the dot will also match newline characters."
   ]
  },
  {
   "cell_type": "raw",
   "id": "60942196",
   "metadata": {},
   "source": [
    "18.    If numReg = re.compile(r'\\d+'), what will numRegex.sub('X', '11 drummers, 10 pipers, five rings, 4 hen') return?\n",
    "\n",
    "Ans18. 'X drummers, X pipers, five rings, X hens'"
   ]
  },
  {
   "cell_type": "raw",
   "id": "27d30d87",
   "metadata": {},
   "source": [
    "19.    What does passing re.VERBOSE as the 2nd argument to re.compile() allow to do?\n",
    "Ans19. The re.VERBOSE argument allows you to add whitespace and comments to the string passed to re.compile()\n"
   ]
  },
  {
   "cell_type": "raw",
   "id": "ba46dca0",
   "metadata": {},
   "source": [
    "20.  How would you write a regex that match a number with comma for every three digits? It must match the given following:\n",
    "    '42'\n",
    "    '1,234'\n",
    "    '6,368,745'\n",
    "     but not the following:\n",
    "    '12,34,567' (which has only two digits between the commas)\n",
    "    '1234' (which lacks commas)\n",
    "\n",
    "Ans20.  e.compile(r'^\\d{1,3}(,{3})*$') will create this regex, but other regex strings can produce a similar regular                     expression.\n"
   ]
  },
  {
   "cell_type": "raw",
   "id": "d77730aa",
   "metadata": {},
   "source": [
    "21.  How would you write a regex that matches the full name of someone whose last name is Watanabe? You can assume that the          first    name that comes before it will always be one word that begins with a capital letter. The regex must match the          following:\n",
    "     'Haruto Watanabe'\n",
    "     'Alice Watanabe'\n",
    "     'RoboCop Watanabe'\n",
    "     but not the following:\n",
    "     'haruto Watanabe' (where the first name is not capitalized)\n",
    "     'Mr. Watanabe' (where the preceding word has a nonletter character)\n",
    "     'Watanabe' (which has no first name)\n",
    "     'Haruto watanabe' (where Watanabe is not capitalized)\n",
    "\n",
    "Ans21.  re.compile(r'[A-Z][a-z]*\\sWatanabe')\n"
   ]
  },
  {
   "cell_type": "raw",
   "id": "08e18e16",
   "metadata": {},
   "source": [
    "22. How would you write a regex that matches a sentence where the first word is either Alice, Bob, or Carol; the second word is either eats, pets, or throws; the third word is apples, cats, or baseballs; and the sentence ends with a period? This regex should be case-insensitive. It must match the following:\n",
    "'Alice eats apples.'\n",
    "'Bob pets cats.'\n",
    "'Carol throws baseballs.'\n",
    "'Alice throws Apples.'\n",
    "'BOB EATS CATS.'\n",
    "but not the following:\n",
    "'RoboCop eats apples.'\n",
    "'ALICE THROWS FOOTBALLS.'\n",
    "'Carol eats 7 cats.'\n",
    "\n",
    "\n",
    "Ans22.  re.compile(r'(Alice|Bob|Carol)\\s(eats|pets|throws)\\ s(apples|cats|baseballs)\\.', re.IGNORECASE)\n",
    "\n"
   ]
  }
 ],
 "metadata": {
  "kernelspec": {
   "display_name": "Python 3 (ipykernel)",
   "language": "python",
   "name": "python3"
  },
  "language_info": {
   "codemirror_mode": {
    "name": "ipython",
    "version": 3
   },
   "file_extension": ".py",
   "mimetype": "text/x-python",
   "name": "python",
   "nbconvert_exporter": "python",
   "pygments_lexer": "ipython3",
   "version": "3.9.12"
  }
 },
 "nbformat": 4,
 "nbformat_minor": 5
}

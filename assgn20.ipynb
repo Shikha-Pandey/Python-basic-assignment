{
 "cells": [
  {
   "attachments": {},
   "cell_type": "markdown",
   "metadata": {},
   "source": [
    "1. Set the variable test1 to the string 'This is a test of the emergency text system,' and save test1 to a file named test.txt.\n"
   ]
  },
  {
   "cell_type": "code",
   "execution_count": 1,
   "metadata": {},
   "outputs": [],
   "source": [
    "test1 = 'This is a test of the emergency text system,'\n",
    "with open('test.txt', 'w') as file:\n",
    "    file.write(test1)\n",
    "#There is no difference between test1 and test2. The contents of the file were read correctly and stored in test2."
   ]
  },
  {
   "attachments": {},
   "cell_type": "markdown",
   "metadata": {},
   "source": [
    "2. Read the contents of the file test.txt into the variable test2. Is there a difference between test 1 and test 2?\n"
   ]
  },
  {
   "cell_type": "code",
   "execution_count": 2,
   "metadata": {},
   "outputs": [
    {
     "name": "stdout",
     "output_type": "stream",
     "text": [
      "True\n"
     ]
    }
   ],
   "source": [
    "with open('test.txt', 'r') as file:\n",
    "    test2 = file.read()\n",
    "\n",
    "print(test1 == test2) # True\n"
   ]
  },
  {
   "attachments": {},
   "cell_type": "markdown",
   "metadata": {},
   "source": [
    "3. Create a CSV file called books.csv by using these lines:\n",
    "title,author,year\n",
    "The Weirdstone of Brisingamen,Alan Garner,1960\n",
    "Perdido Street Station,China Miéville,2000\n",
    "Thud!,Terry Pratchett,2005\n",
    "The Spellman Files,Lisa Lutz,2007\n",
    "Small Gods,Terry Pratchett,1992\n"
   ]
  },
  {
   "cell_type": "code",
   "execution_count": 3,
   "metadata": {},
   "outputs": [],
   "source": [
    "import csv\n",
    "\n",
    "books = [\n",
    "    ['title', 'author', 'year'],\n",
    "    ['The Weirdstone of Brisingamen', 'Alan Garner', 1960],\n",
    "    ['Perdido Street Station', 'China Miéville', 2000],\n",
    "    ['Thud!', 'Terry Pratchett', 2005],\n",
    "    ['The Spellman Files', 'Lisa Lutz', 2007],\n",
    "    ['Small Gods', 'Terry Pratchett', 1992]\n",
    "]\n",
    "\n",
    "with open('books.csv', 'w', newline='') as file:\n",
    "    writer = csv.writer(file)\n",
    "    writer.writerows(books)\n"
   ]
  },
  {
   "attachments": {},
   "cell_type": "markdown",
   "metadata": {},
   "source": [
    "4. Use the sqlite3 module to create a SQLite database called books.db, and a table called books with these fields: title (text), author (text), and year (integer).\n"
   ]
  },
  {
   "cell_type": "code",
   "execution_count": 4,
   "metadata": {},
   "outputs": [
    {
     "ename": "OperationalError",
     "evalue": "table books already exists",
     "output_type": "error",
     "traceback": [
      "\u001b[1;31m---------------------------------------------------------------------------\u001b[0m",
      "\u001b[1;31mOperationalError\u001b[0m                          Traceback (most recent call last)",
      "\u001b[1;32mc:\\Users\\rohit\\OneDrive\\Desktop\\Pyuthon Assignment\\assgn20.ipynb Cell 8\u001b[0m in \u001b[0;36m<cell line: 7>\u001b[1;34m()\u001b[0m\n\u001b[0;32m      <a href='vscode-notebook-cell:/c%3A/Users/rohit/OneDrive/Desktop/Pyuthon%20Assignment/assgn20.ipynb#X10sZmlsZQ%3D%3D?line=3'>4</a>\u001b[0m conn \u001b[39m=\u001b[39m sqlite3\u001b[39m.\u001b[39mconnect(\u001b[39m'\u001b[39m\u001b[39mbooks.db\u001b[39m\u001b[39m'\u001b[39m)\n\u001b[0;32m      <a href='vscode-notebook-cell:/c%3A/Users/rohit/OneDrive/Desktop/Pyuthon%20Assignment/assgn20.ipynb#X10sZmlsZQ%3D%3D?line=5'>6</a>\u001b[0m \u001b[39m# Create a table\u001b[39;00m\n\u001b[1;32m----> <a href='vscode-notebook-cell:/c%3A/Users/rohit/OneDrive/Desktop/Pyuthon%20Assignment/assgn20.ipynb#X10sZmlsZQ%3D%3D?line=6'>7</a>\u001b[0m conn\u001b[39m.\u001b[39;49mexecute(\u001b[39m'''\u001b[39;49m\u001b[39mCREATE TABLE books\u001b[39;49m\n\u001b[0;32m      <a href='vscode-notebook-cell:/c%3A/Users/rohit/OneDrive/Desktop/Pyuthon%20Assignment/assgn20.ipynb#X10sZmlsZQ%3D%3D?line=7'>8</a>\u001b[0m \u001b[39m             (title TEXT, author TEXT, year INT)\u001b[39;49m\u001b[39m'''\u001b[39;49m)\n\u001b[0;32m     <a href='vscode-notebook-cell:/c%3A/Users/rohit/OneDrive/Desktop/Pyuthon%20Assignment/assgn20.ipynb#X10sZmlsZQ%3D%3D?line=9'>10</a>\u001b[0m \u001b[39m# Close the database connection\u001b[39;00m\n\u001b[0;32m     <a href='vscode-notebook-cell:/c%3A/Users/rohit/OneDrive/Desktop/Pyuthon%20Assignment/assgn20.ipynb#X10sZmlsZQ%3D%3D?line=10'>11</a>\u001b[0m conn\u001b[39m.\u001b[39mclose()\n",
      "\u001b[1;31mOperationalError\u001b[0m: table books already exists"
     ]
    }
   ],
   "source": [
    "import sqlite3\n",
    "\n",
    "# Create a database connection\n",
    "conn = sqlite3.connect('books.db')\n",
    "\n",
    "# Create a table\n",
    "conn.execute('''CREATE TABLE books\n",
    "             (title TEXT, author TEXT, year INT)''')\n",
    "\n",
    "# Close the database connection\n",
    "conn.close()\n"
   ]
  },
  {
   "attachments": {},
   "cell_type": "markdown",
   "metadata": {},
   "source": [
    "5. Read books.csv and insert its data into the book table.\n"
   ]
  },
  {
   "cell_type": "code",
   "execution_count": null,
   "metadata": {},
   "outputs": [],
   "source": [
    "import csv\n",
    "import sqlite3\n",
    "\n",
    "# Create a database connection\n",
    "conn = sqlite3.connect('books.db')\n",
    "\n",
    "# Open the books.csv file and read its contents\n",
    "with open('books.csv', 'r') as file:\n",
    "    books = csv.reader(file)\n",
    "    next(books)  # Skip the header row\n",
    "    # Insert each row from the CSV file into the database\n",
    "    for row in books:\n",
    "        conn.execute('INSERT INTO books (title, author, year) VALUES (?, ?, ?)', row)\n",
    "\n",
    "# Commit the changes and close the database connection\n",
    "conn.commit()\n",
    "conn.close()\n"
   ]
  },
  {
   "attachments": {},
   "cell_type": "markdown",
   "metadata": {},
   "source": [
    "6. Select and print the title column from the book table in alphabetical order.\n"
   ]
  },
  {
   "cell_type": "code",
   "execution_count": null,
   "metadata": {},
   "outputs": [
    {
     "name": "stdout",
     "output_type": "stream",
     "text": [
      "Perdido Street Station\n",
      "Small Gods\n",
      "The Spellman Files\n",
      "The Weirdstone of Brisingamen\n",
      "Thud!\n"
     ]
    }
   ],
   "source": [
    "import sqlite3\n",
    "\n",
    "# Create a database connection\n",
    "conn = sqlite3.connect('books.db')\n",
    "\n",
    "# Select the title column from the book table in alphabetical order\n",
    "titles = conn.execute('SELECT title FROM books ORDER BY title')\n",
    "\n",
    "# Print each title\n",
    "for title in titles:\n",
    "    print(title[0])\n",
    "\n",
    "# Close the database connection\n",
    "conn.close()\n"
   ]
  },
  {
   "attachments": {},
   "cell_type": "markdown",
   "metadata": {},
   "source": [
    "7. From the book table, select and print all columns in the order of publication.\n"
   ]
  },
  {
   "cell_type": "code",
   "execution_count": null,
   "metadata": {},
   "outputs": [
    {
     "name": "stdout",
     "output_type": "stream",
     "text": [
      "('The Weirdstone of Brisingamen', 'Alan Garner', 1960)\n",
      "('Small Gods', 'Terry Pratchett', 1992)\n",
      "('Perdido Street Station', 'China Miéville', 2000)\n",
      "('Thud!', 'Terry Pratchett', 2005)\n",
      "('The Spellman Files', 'Lisa Lutz', 2007)\n"
     ]
    }
   ],
   "source": [
    "import sqlite3\n",
    "\n",
    "conn = sqlite3.connect('books.db')\n",
    "c = conn.cursor()\n",
    "\n",
    "c.execute('SELECT * FROM books ORDER BY year')\n",
    "rows = c.fetchall()\n",
    "\n",
    "for row in rows:\n",
    "    print(row)\n",
    "\n",
    "conn.close()\n"
   ]
  },
  {
   "attachments": {},
   "cell_type": "markdown",
   "metadata": {},
   "source": [
    "8. Use the sqlalchemy module to connect to the sqlite3 database books.db that you just made in exercise 6.\n"
   ]
  },
  {
   "cell_type": "code",
   "execution_count": null,
   "metadata": {},
   "outputs": [],
   "source": [
    "from sqlalchemy import create_engine\n",
    "\n",
    "engine = create_engine('sqlite:///books.db', echo=True)\n"
   ]
  },
  {
   "attachments": {},
   "cell_type": "markdown",
   "metadata": {},
   "source": [
    "9. Install the Redis server and the Python redis library (pip install redis) on your computer. Create a Redis hash called test with the fields count (1) and name ('Fester Bestertester'). Print all the fields for test.\n"
   ]
  },
  {
   "cell_type": "code",
   "execution_count": null,
   "metadata": {},
   "outputs": [],
   "source": [
    "import redis\n",
    "\n",
    "# Create Redis client\n",
    "r = redis.Redis(host='localhost', port=6379, db=0)\n",
    "\n",
    "# Create hash with fields count and name\n",
    "r.hset('test', 'count', 1)\n",
    "r.hset('test', 'name', 'Fester Bestertester')\n",
    "\n",
    "# Print all fields for hash test\n",
    "print(r.hgetall('test'))\n",
    "\n"
   ]
  },
  {
   "attachments": {},
   "cell_type": "markdown",
   "metadata": {},
   "source": [
    "10. Increment the count field of test and print it."
   ]
  },
  {
   "cell_type": "code",
   "execution_count": null,
   "metadata": {},
   "outputs": [],
   "source": [
    "import redis\n",
    "\n",
    "# Connect to Redis\n",
    "r = redis.Redis()\n",
    "\n",
    "# Increment the count field of test\n",
    "r.hincrby('test', 'count', 1)\n",
    "\n",
    "# Print the updated count value\n",
    "print(r.hget('test', 'count'))\n"
   ]
  },
  {
   "cell_type": "code",
   "execution_count": null,
   "metadata": {},
   "outputs": [],
   "source": []
  }
 ],
 "metadata": {
  "kernelspec": {
   "display_name": "base",
   "language": "python",
   "name": "python3"
  },
  "language_info": {
   "codemirror_mode": {
    "name": "ipython",
    "version": 3
   },
   "file_extension": ".py",
   "mimetype": "text/x-python",
   "name": "python",
   "nbconvert_exporter": "python",
   "pygments_lexer": "ipython3",
   "version": "3.9.12"
  },
  "orig_nbformat": 4
 },
 "nbformat": 4,
 "nbformat_minor": 2
}

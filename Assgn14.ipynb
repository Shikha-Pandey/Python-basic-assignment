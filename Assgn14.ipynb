{
 "cells": [
  {
   "cell_type": "markdown",
   "id": "d57439d9",
   "metadata": {},
   "source": [
    "1.    What does RGBA stand for?\n",
    "Ans1. RGBA stands for Red, Green, Blue, and Alpha. It is a color model that adds an alpha channel to the RGB color model, which       represents the transparency or opacity of a color."
   ]
  },
  {
   "cell_type": "markdown",
   "id": "02dad28e",
   "metadata": {},
   "source": [
    "2.    From the Pillow module, how do you get the RGBA value of any images?\n",
    "Ans2. To get the RGBA value of an image using the Pillow module, you can use the getpixel() method. \n",
    "      example:\n",
    "      "
   ]
  },
  {
   "cell_type": "code",
   "execution_count": null,
   "id": "355463d0",
   "metadata": {},
   "outputs": [],
   "source": [
    "from PIL import Image\n",
    "\n",
    "# Open the image\n",
    "img = Image.open('image.jpg')\n",
    "\n",
    "# Get the RGBA value of a pixel at coordinates (x, y)\n",
    "rgba = img.getpixel((x, y))\n",
    "\n"
   ]
  },
  {
   "cell_type": "markdown",
   "id": "a267d400",
   "metadata": {},
   "source": [
    "3.    What is a box tuple, and how does it work?\n",
    "Ans3. In Pillow, a box tuple is a tuple that represents a rectangular region in an image. The tuple contains four integers:           (left, upper, right, lower). The left and upper values represent the coordinates of the top-left corner of the box, while       the right and lower values represent the coordinates of the bottom-right corner of the box.\n",
    "      The box tuple is often used as an argument for various methods in Pillow, such as crop() and paste(), to specify a               rectangular region of an image to manipulate."
   ]
  },
  {
   "cell_type": "markdown",
   "id": "74c0e68f",
   "metadata": {},
   "source": [
    "4.    Use your image and load in notebook then, How can you find out the width and height of an Image object?\n",
    "Ans4. To find out the width and height of an Image object, you can use the size attribute.Example:"
   ]
  },
  {
   "cell_type": "code",
   "execution_count": null,
   "id": "bbebd5ce",
   "metadata": {},
   "outputs": [],
   "source": [
    "from PIL import Image\n",
    "\n",
    "# Open the image\n",
    "img = Image.open('image.jpg')\n",
    "\n",
    "# Get the width and height of the image\n",
    "width, height = img.size\n"
   ]
  },
  {
   "cell_type": "markdown",
   "id": "bffe3323",
   "metadata": {},
   "source": [
    "5.    What method would you call to get Image object for a 100×100 image, excluding the lower-left quarter of it?\n",
    "Ans5. To get an Image object for a 100x100 image, excluding the lower-left quarter of it, you can use the crop() method.               example"
   ]
  },
  {
   "cell_type": "code",
   "execution_count": null,
   "id": "9cd58715",
   "metadata": {},
   "outputs": [],
   "source": [
    "from PIL import Image\n",
    "\n",
    "# Open the image\n",
    "img = Image.open('image.jpg')\n",
    "\n",
    "# Crop the image to exclude the lower-left quarter\n",
    "cropped_img = img.crop((0, 0, 50, 50))\n"
   ]
  },
  {
   "cell_type": "markdown",
   "id": "f1f58962",
   "metadata": {},
   "source": [
    "6.    After making changes to an Image object, how could you save it as an image file?\n",
    "Ans6. To save an Image object as an image file after making changes to it, you can use the save() method.Example:"
   ]
  },
  {
   "cell_type": "code",
   "execution_count": null,
   "id": "a3e7de7c",
   "metadata": {},
   "outputs": [],
   "source": [
    "from PIL import Image\n",
    "\n",
    "# Open the image\n",
    "img = Image.open('image.jpg')\n",
    "\n",
    "# Make changes to the image\n",
    "# ...\n",
    "\n",
    "# Save the image as a new file\n",
    "img.save('new_image.jpg')\n"
   ]
  },
  {
   "cell_type": "markdown",
   "id": "3ecf6145",
   "metadata": {},
   "source": [
    "7.    What module contains Pillow’s shape-drawing code?\n",
    "Ans7. Pillow's shape-drawing code is contained in the ImageDraw module. This module provides a Draw class, which has methods for       drawing various shapes such as lines, rectangles, and circles.\n",
    "      example of how to use the ImageDraw module to draw a rectangle on an image:"
   ]
  },
  {
   "cell_type": "code",
   "execution_count": null,
   "id": "87438117",
   "metadata": {},
   "outputs": [],
   "source": [
    "from PIL import Image, ImageDraw\n",
    "\n",
    "# Open the image\n",
    "img = Image.open('image.jpg')\n",
    "\n",
    "# Create a Draw object\n",
    "draw = ImageDraw.Draw(img)\n",
    "\n",
    "# Draw a rectangle on the image\n",
    "draw.rectangle((x1, y1, x2, y2), outline='red', width=2)\n",
    "\n",
    "# Save the image\n",
    "img.save('new_image.jpg')\n"
   ]
  },
  {
   "cell_type": "markdown",
   "id": "05442b29",
   "metadata": {},
   "source": [
    "8.    Image objects do not have drawing methods. What kind of object does? How do you get this kind of object?\n",
    "Ans8. Image objects in Pillow do not have drawing methods. Instead, you can create a Draw object from an Image object and use         its methods to draw shapes and text. Example:"
   ]
  },
  {
   "cell_type": "code",
   "execution_count": null,
   "id": "6f8871ce",
   "metadata": {},
   "outputs": [],
   "source": [
    "from PIL import Image, ImageDraw\n",
    "\n",
    "# Open the image\n",
    "img = Image.open('image.jpg')\n",
    "\n",
    "# Create a Draw object from the image\n",
    "draw = ImageDraw.Draw(img)\n",
    "\n",
    "# Draw a line on the image\n",
    "draw.line((x1, y1, x2,\n"
   ]
  }
 ],
 "metadata": {
  "kernelspec": {
   "display_name": "Python 3 (ipykernel)",
   "language": "python",
   "name": "python3"
  },
  "language_info": {
   "codemirror_mode": {
    "name": "ipython",
    "version": 3
   },
   "file_extension": ".py",
   "mimetype": "text/x-python",
   "name": "python",
   "nbconvert_exporter": "python",
   "pygments_lexer": "ipython3",
   "version": "3.9.12"
  }
 },
 "nbformat": 4,
 "nbformat_minor": 5
}

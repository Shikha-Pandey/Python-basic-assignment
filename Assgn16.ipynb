{
 "cells": [
  {
   "cell_type": "markdown",
   "id": "6340dcc6",
   "metadata": {},
   "source": [
    "1. Create a list called years_list, starting with the year of your birth, and each year thereafter until the year of your fifth birthday. For example, if you were born in 1980. the list would be years_list = [1980, 1981, 1982, 1983, 1984, 1985].\n",
    "\n",
    "Ans1. years_list = [1995, 1996, 1997, 1998, 1999, 2000]\n"
   ]
  },
  {
   "cell_type": "markdown",
   "id": "1eec366f",
   "metadata": {},
   "source": [
    "2. In which year in years_list was your third birthday? Remember, you were 0 years of age for your first year.\n",
    "Ans2. The year of your third birthday would be the third element in the list, which is 1998.\n",
    "\n"
   ]
  },
  {
   "cell_type": "markdown",
   "id": "841daa87",
   "metadata": {},
   "source": [
    "3. In the years list, which year were you the oldest?\n",
    "Ans3. The year in the years_list in which you were the oldest would be the last element of the list, which is 2000.\n",
    "\n"
   ]
  },
  {
   "cell_type": "markdown",
   "id": "53948fd8",
   "metadata": {},
   "source": [
    "4. Make a list called things with these three strings as elements: \"mozzarella\", \"cinderella\", \"salmonella\".\n",
    "Ans4. things = [\"mozzarella\", \"cinderella\", \"salmonella\"]\n"
   ]
  },
  {
   "cell_type": "markdown",
   "id": "a48ebd57",
   "metadata": {},
   "source": [
    "5. Capitalize the element in things that refers to a person and then print the list. Did it change the element in the list?\n",
    "Ans5. things[1] = things[1].capitalize() -> [\"mozzarella\", \"Cinderella\", \"salmonella\"]. It changed the element in the list.\n"
   ]
  },
  {
   "cell_type": "markdown",
   "id": "d663f37d",
   "metadata": {},
   "source": [
    "6. Make a surprise list with the elements \"Groucho,\" \"Chico,\" and \"Harpo.\"\n",
    "Ans6. surprise = [\"Groucho\", \"Chico\", \"Harpo\"]\n"
   ]
  },
  {
   "cell_type": "markdown",
   "id": "46837543",
   "metadata": {},
   "source": [
    "7. Lowercase the last element of the surprise list, reverse it, and then capitalize it.\n",
    "Ans7. surprise[-1] = surprise[-1].lower()[::-1].capitalize() -> [\"Groucho\", \"Chico\", \"Oprah\"]\n"
   ]
  },
  {
   "cell_type": "markdown",
   "id": "4705184d",
   "metadata": {},
   "source": [
    "8. Make an English-to-French dictionary called e2f and print it. Here are your starter words: dog is chien, cat is chat, and walrus is morse.\n",
    "Ans8. e2f = {\"dog\": \"chien\", \"cat\": \"chat\", \"walrus\": \"morse\"}\n"
   ]
  },
  {
   "cell_type": "markdown",
   "id": "bffabd0a",
   "metadata": {},
   "source": [
    "9. Write the French word for walrus in your three-word dictionary e2f.\n",
    "Ans9. The French word for walrus in the e2f dictionary is \"morse\".\n"
   ]
  },
  {
   "cell_type": "markdown",
   "id": "e15b9acc",
   "metadata": {},
   "source": [
    "10. Make a French-to-English dictionary called f2e from e2f. Use the items method.\n",
    "Ans10. f2e = {value: key for key, value in e2f.items()}\n"
   ]
  },
  {
   "cell_type": "markdown",
   "id": "8d49183c",
   "metadata": {},
   "source": [
    "11. Print the English version of the French word chien using f2e.\n",
    "Ans11. print(f2e[\"chien\"]) -> \"dog\"\n"
   ]
  },
  {
   "cell_type": "markdown",
   "id": "21ce4c67",
   "metadata": {},
   "source": [
    "12. Make and print a set of English words from the keys in e2f.\n",
    "Ans12. english_words = set(e2f.keys())\n",
    "\n"
   ]
  },
  {
   "cell_type": "markdown",
   "id": "dfad13c9",
   "metadata": {},
   "source": [
    "13. Make a multilevel dictionary called life. Use these strings for the topmost keys: 'animals', 'plants', and 'other'. Make the    'animals' key refer to another dictionary with the keys 'cats', 'octopi', and 'emus'. Make the 'cats' key refer to a list of     strings with the values 'Henri', 'Grumpy', and 'Lucy'. Make all the other keys refer to empty dictionaries.\n",
    "Ans13. life = {\"animals\": {\"cats\": [\"Henri\", \"Grumpy\", \"Lucy\"], \"octopi\": {}, \"emus\": {}}, \"plants\": {}, \"other\": {}}\n"
   ]
  },
  {
   "cell_type": "markdown",
   "id": "cdaa6545",
   "metadata": {},
   "source": [
    "14. Print the top-level keys of life.\n",
    "Ans14. print(life.keys()) -> [\"animals\", \"plants\", \"other\"]\n"
   ]
  },
  {
   "cell_type": "markdown",
   "id": "c3f71799",
   "metadata": {},
   "source": [
    "15. Print the keys for life['animals'].\n",
    "Ans15. print(life[\"animals\"].keys()) -> [\"cats\", \"octopi\", \"emus\"]\n"
   ]
  },
  {
   "cell_type": "markdown",
   "id": "d769fbf6",
   "metadata": {},
   "source": [
    "16. Print the values for life['animals']['cats']\n",
    "Ans16. print(life[\"animals\"][\"cats\"]) -> [\"Henri\", \"Grumpy\", \"Lucy\"]"
   ]
  }
 ],
 "metadata": {
  "kernelspec": {
   "display_name": "Python 3 (ipykernel)",
   "language": "python",
   "name": "python3"
  },
  "language_info": {
   "codemirror_mode": {
    "name": "ipython",
    "version": 3
   },
   "file_extension": ".py",
   "mimetype": "text/x-python",
   "name": "python",
   "nbconvert_exporter": "python",
   "pygments_lexer": "ipython3",
   "version": "3.9.12"
  }
 },
 "nbformat": 4,
 "nbformat_minor": 5
}

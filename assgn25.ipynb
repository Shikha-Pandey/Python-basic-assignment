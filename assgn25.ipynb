{
 "cells": [
  {
   "attachments": {},
   "cell_type": "markdown",
   "metadata": {},
   "source": [
    "1) . What is the difference between enclosing a list comprehension in square brackets and parentheses?\n",
    "\n",
    "Ans1. Enclosing a list comprehension in square brackets creates a list, while enclosing it in parentheses creates a generator expression. A list is a collection of values that are immediately evaluated and stored in memory, while a generator expression creates an iterator that generates values on-the-fly as they are needed, without storing them in memory."
   ]
  },
  {
   "attachments": {},
   "cell_type": "markdown",
   "metadata": {},
   "source": [
    "2) What is the relationship between generators and iterators?\n",
    "Ans2. A generator is a type of iterator that is defined using a generator function. Generator functions are a convenient way to create iterators, as they automatically implement the iterator protocol and can use the \"yield\" keyword to generate values. In other words, all generators are iterators, but not all iterators are generators."
   ]
  },
  {
   "attachments": {},
   "cell_type": "markdown",
   "metadata": {},
   "source": [
    "3) What are the signs that a function is a generator function?\n",
    "Ans3. A function is a generator function if it contains at least one \"yield\" statement. The \"yield\" statement is used to pause the function execution and generate a value, which can be retrieved by calling the next() method on the generator object.\n"
   ]
  },
  {
   "attachments": {},
   "cell_type": "markdown",
   "metadata": {},
   "source": [
    "4) What is the purpose of a yield statement?\n",
    "Ans4. The purpose of a yield statement is to generate a value from a generator function and pause the function execution. When the function is called again, it resumes from where it left off and continues execution until the next \"yield\" statement is encountered."
   ]
  },
  {
   "attachments": {},
   "cell_type": "markdown",
   "metadata": {},
   "source": [
    "5) What is the relationship between map calls and list comprehensions? Make a comparison and contrast between the two.\n",
    "Ans5. Both map calls and list comprehensions are used to apply a function to each element of an iterable and return a new iterable with the results. However, map returns a map object, which is an iterator that generates the results on-the-fly as they are needed, while list comprehensions return a list that contains all the results immediately. List comprehensions are generally faster than map calls for small iterables, while map calls are more memory-efficient for large iterables since they do not store all the results in memory at once."
   ]
  }
 ],
 "metadata": {
  "language_info": {
   "name": "python"
  },
  "orig_nbformat": 4
 },
 "nbformat": 4,
 "nbformat_minor": 2
}

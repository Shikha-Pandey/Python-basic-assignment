{
 "cells": [
  {
   "cell_type": "markdown",
   "id": "82f30864",
   "metadata": {},
   "source": [
    "1. How many seconds are in an hour? Use the interactive interpreter as a calculator and multiply the number of seconds in a        minute (60) by the number of minutes in an hour (also 60).\n",
    "   sol. 60 \n",
    "Ans1. There are 3600 seconds in an hour. We can calculate this by multiplying the number of seconds in a minute (60) by the           number of minutes in an hour (60):\n",
    "\n"
   ]
  },
  {
   "cell_type": "code",
   "execution_count": 1,
   "id": "76ebcdb2",
   "metadata": {},
   "outputs": [
    {
     "data": {
      "text/plain": [
       "3600"
      ]
     },
     "execution_count": 1,
     "metadata": {},
     "output_type": "execute_result"
    }
   ],
   "source": [
    ">>> 60 * 60\n",
    "3600\n"
   ]
  },
  {
   "cell_type": "markdown",
   "id": "7d845847",
   "metadata": {},
   "source": [
    "2. Assign the result from the previous task (seconds in an hour) to a variable called seconds_per_hour.\n",
    "Ans2. To assign the result from the previous task to a variable called seconds_per_hour, we can do the following:"
   ]
  },
  {
   "cell_type": "code",
   "execution_count": 3,
   "id": "38622cb6",
   "metadata": {},
   "outputs": [],
   "source": [
    "seconds_per_hour = 60 * 60\n"
   ]
  },
  {
   "cell_type": "markdown",
   "id": "9ed141bc",
   "metadata": {},
   "source": [
    "3. How many seconds do you think there are in a day? Make use of the variables seconds per hour and minutes per hour.\n",
    "Ans3.There are 86,400 seconds in a day (24 hours * 60 minutes * 60 seconds), assuming a 24-hour day. we can use the                  seconds_per_hour variable to calculate this as well:"
   ]
  },
  {
   "cell_type": "code",
   "execution_count": 4,
   "id": "7913fc96",
   "metadata": {},
   "outputs": [],
   "source": [
    "seconds_per_day = seconds_per_hour * 24\n"
   ]
  },
  {
   "cell_type": "markdown",
   "id": "21cf53d0",
   "metadata": {},
   "source": [
    "4. Calculate seconds per day again, but this time save the result in a variable called seconds_per_day\n",
    "Ans4. o calculate seconds_per_day and save the result to a variable, we can use the following code:"
   ]
  },
  {
   "cell_type": "code",
   "execution_count": 5,
   "id": "2ee6d0a1",
   "metadata": {},
   "outputs": [],
   "source": [
    "seconds_per_day = seconds_per_hour * 24\n"
   ]
  },
  {
   "cell_type": "markdown",
   "id": "d11db36e",
   "metadata": {},
   "source": [
    "5. Divide seconds_per_day by seconds_per_hour. Use floating-point (/) division.\n",
    "Ans5. To divide seconds_per_day by seconds_per_hour using floating-point division, we can use the following code:"
   ]
  },
  {
   "cell_type": "code",
   "execution_count": 6,
   "id": "facb4c3b",
   "metadata": {},
   "outputs": [
    {
     "data": {
      "text/plain": [
       "24.0"
      ]
     },
     "execution_count": 6,
     "metadata": {},
     "output_type": "execute_result"
    }
   ],
   "source": [
    ">>> seconds_per_day / seconds_per_hour\n",
    "24.0\n"
   ]
  },
  {
   "cell_type": "markdown",
   "id": "ee63bdfe",
   "metadata": {},
   "source": [
    "6. Divide seconds_per_day by seconds_per_hour, using integer (//) division. Did this number agree with the floating-point value from the previous question, aside from the final .0?\n",
    "Ans6. To divide seconds_per_day by seconds_per_hour using integer division,The result is the same as the floating-point division       result, except that the fractional part is truncated. we can use the following code:\n"
   ]
  },
  {
   "cell_type": "code",
   "execution_count": 7,
   "id": "8b1dc516",
   "metadata": {},
   "outputs": [
    {
     "data": {
      "text/plain": [
       "24"
      ]
     },
     "execution_count": 7,
     "metadata": {},
     "output_type": "execute_result"
    }
   ],
   "source": [
    ">>> seconds_per_day // seconds_per_hour\n",
    "24\n"
   ]
  },
  {
   "cell_type": "markdown",
   "id": "892ce342",
   "metadata": {},
   "source": [
    "7. Write a generator, genPrimes, that returns the sequence of prime numbers on successive calls to its next() method: 2, 3, 5, 7, 11, ...\n",
    "Ans7. "
   ]
  },
  {
   "cell_type": "code",
   "execution_count": 8,
   "id": "95b00ae7",
   "metadata": {},
   "outputs": [],
   "source": [
    "def genPrimes():\n",
    "    \"\"\"\n",
    "    Generate an infinite sequence of prime numbers.\n",
    "    \"\"\"\n",
    "    primes = []  # List of known prime numbers\n",
    "    n = 2       # First number to check for primality\n",
    "    while True:\n",
    "        # Check if n is prime by dividing it by each known prime\n",
    "        for p in primes:\n",
    "            if n % p == 0:\n",
    "                break\n",
    "        else:\n",
    "            # n is prime, so yield it and add it to the list of known primes\n",
    "            yield n\n",
    "            primes.append(n)\n",
    "        n += 1\n"
   ]
  },
  {
   "cell_type": "code",
   "execution_count": 9,
   "id": "f967fe2b",
   "metadata": {},
   "outputs": [
    {
     "data": {
      "text/plain": [
       "11"
      ]
     },
     "execution_count": 9,
     "metadata": {},
     "output_type": "execute_result"
    }
   ],
   "source": [
    ">>> primes = genPrimes()\n",
    ">>> next(primes)\n",
    "2\n",
    ">>> next(primes)\n",
    "3\n",
    ">>> next(primes)\n",
    "5\n",
    ">>> next(primes)\n",
    "7\n",
    ">>> next(primes)\n",
    "11\n",
    "# And so on...\n"
   ]
  },
  {
   "cell_type": "code",
   "execution_count": null,
   "id": "09a60019",
   "metadata": {},
   "outputs": [],
   "source": []
  }
 ],
 "metadata": {
  "kernelspec": {
   "display_name": "Python 3 (ipykernel)",
   "language": "python",
   "name": "python3"
  },
  "language_info": {
   "codemirror_mode": {
    "name": "ipython",
    "version": 3
   },
   "file_extension": ".py",
   "mimetype": "text/x-python",
   "name": "python",
   "nbconvert_exporter": "python",
   "pygments_lexer": "ipython3",
   "version": "3.9.12"
  }
 },
 "nbformat": 4,
 "nbformat_minor": 5
}

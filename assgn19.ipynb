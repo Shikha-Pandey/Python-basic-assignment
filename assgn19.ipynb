{
 "cells": [
  {
   "attachments": {},
   "cell_type": "markdown",
   "metadata": {},
   "source": [
    "1. Make a class called Thing with no contents and print it. Then, create an object called example from this class and also print it. Are the printed values the same or different?"
   ]
  },
  {
   "cell_type": "code",
   "execution_count": 1,
   "metadata": {},
   "outputs": [
    {
     "name": "stdout",
     "output_type": "stream",
     "text": [
      "<__main__.Thing object at 0x000001C0FAD4A730>\n",
      "<__main__.Thing object at 0x000001C0FAD4AA60>\n"
     ]
    }
   ],
   "source": [
    "class Thing:\n",
    "    pass\n",
    "\n",
    "print(Thing())\n",
    "\n",
    "example = Thing()\n",
    "print(example)\n",
    "#The printed values are different, but they both refer to an instance of the Thing class.\n"
   ]
  },
  {
   "attachments": {},
   "cell_type": "markdown",
   "metadata": {},
   "source": [
    "2. Create a new class called Thing2 and add the value 'abc' to the letters class attribute. Letters should be printed.\n"
   ]
  },
  {
   "cell_type": "code",
   "execution_count": 2,
   "metadata": {},
   "outputs": [
    {
     "name": "stdout",
     "output_type": "stream",
     "text": [
      "abc\n"
     ]
    }
   ],
   "source": [
    "class Thing2:\n",
    "    letters = 'abc'\n",
    "\n",
    "print(Thing2.letters)\n",
    "#This will print \"abc\", which is the value of the letters class attribute of Thing2."
   ]
  },
  {
   "attachments": {},
   "cell_type": "markdown",
   "metadata": {},
   "source": [
    "3. Make yet another class called, of course, Thing3. This time, assign the value 'xyz' to an instance (object) attribute called letters. Print letters. Do you need to make an object from the class to do this?\n"
   ]
  },
  {
   "cell_type": "code",
   "execution_count": 3,
   "metadata": {},
   "outputs": [
    {
     "name": "stdout",
     "output_type": "stream",
     "text": [
      "xyz\n"
     ]
    }
   ],
   "source": [
    "class Thing3:\n",
    "    def __init__(self):\n",
    "        self.letters = 'xyz'\n",
    "\n",
    "thing = Thing3()\n",
    "print(thing.letters)\n",
    "#This will print \"xyz\", which is the value of the letters instance attribute of thing."
   ]
  },
  {
   "attachments": {},
   "cell_type": "markdown",
   "metadata": {},
   "source": [
    "4. Create an Element class with the instance attributes name, symbol, and number. Create a class object with the values 'Hydrogen,' 'H,' and 1.\n"
   ]
  },
  {
   "cell_type": "code",
   "execution_count": 4,
   "metadata": {},
   "outputs": [],
   "source": [
    "class Element:\n",
    "    def __init__(self, name, symbol, number):\n",
    "        self.name = name\n",
    "        self.symbol = symbol\n",
    "        self.number = number\n",
    "\n",
    "element = Element('Hydrogen', 'H', 1)\n",
    "#This creates an instance of the Element class with the specified values for its attributes.\n"
   ]
  },
  {
   "attachments": {},
   "cell_type": "markdown",
   "metadata": {},
   "source": [
    "5. Make a dictionary with these keys and values: 'name': 'Hydrogen', 'symbol': 'H', 'number': 1. Then, create an object called hydrogen from class Element using this dictionary.\n"
   ]
  },
  {
   "cell_type": "code",
   "execution_count": 5,
   "metadata": {},
   "outputs": [],
   "source": [
    "data = {'name': 'Hydrogen', 'symbol': 'H', 'number': 1}\n",
    "hydrogen = Element(**data)\n",
    "#This creates an instance of the Element class using the data dictionary as keyword arguments (the ** syntax unpacks the dictionary into separate arguments).\n"
   ]
  },
  {
   "attachments": {},
   "cell_type": "markdown",
   "metadata": {},
   "source": [
    "6. For the Element class, define a method called dump() that prints the values of the object’s attributes (name, symbol, and number). Create the hydrogen object from this new definition and use dump() to print its attributes.\n"
   ]
  },
  {
   "cell_type": "code",
   "execution_count": 6,
   "metadata": {},
   "outputs": [
    {
     "name": "stdout",
     "output_type": "stream",
     "text": [
      "Hydrogen H 1\n"
     ]
    }
   ],
   "source": [
    "class Element:\n",
    "    def __init__(self, name, symbol, number):\n",
    "        self.name = name\n",
    "        self.symbol = symbol\n",
    "        self.number = number\n",
    "\n",
    "    def dump(self):\n",
    "        print(self.name, self.symbol, self.number)\n",
    "\n",
    "hydrogen = Element('Hydrogen', 'H', 1)\n",
    "hydrogen.dump()\n"
   ]
  },
  {
   "attachments": {},
   "cell_type": "markdown",
   "metadata": {},
   "source": [
    "7. Call print(hydrogen). In the definition of Element, change the name of method dump to __str__, create a new hydrogen object, and call print(hydrogen) again.\n"
   ]
  },
  {
   "cell_type": "code",
   "execution_count": 7,
   "metadata": {},
   "outputs": [
    {
     "name": "stdout",
     "output_type": "stream",
     "text": [
      "Hydrogen (H): 1\n"
     ]
    }
   ],
   "source": [
    "class Element:\n",
    "    def __init__(self, name, symbol, number):\n",
    "        self.name = name\n",
    "        self.symbol = symbol\n",
    "        self.number = number\n",
    "\n",
    "    def __str__(self):\n",
    "        return f\"{self.name} ({self.symbol}): {self.number}\"\n",
    "\n",
    "hydrogen = Element('Hydrogen', 'H', 1)\n",
    "print(hydrogen)\n"
   ]
  },
  {
   "attachments": {},
   "cell_type": "markdown",
   "metadata": {},
   "source": [
    "8. Modify Element to make the attributes name, symbol, and number private. Define a getter property for each to return its value.\n"
   ]
  },
  {
   "cell_type": "code",
   "execution_count": 8,
   "metadata": {},
   "outputs": [
    {
     "name": "stdout",
     "output_type": "stream",
     "text": [
      "Hydrogen\n",
      "H\n",
      "1\n"
     ]
    }
   ],
   "source": [
    "class Element:\n",
    "    def __init__(self, name, symbol, number):\n",
    "        self._name = name\n",
    "        self._symbol = symbol\n",
    "        self._number = number\n",
    "\n",
    "    @property\n",
    "    def name(self):\n",
    "        return self._name\n",
    "\n",
    "    @property\n",
    "    def symbol(self):\n",
    "        return self._symbol\n",
    "\n",
    "    @property\n",
    "    def number(self):\n",
    "        return self._number\n",
    "\n",
    "hydrogen = Element('Hydrogen', 'H', 1)\n",
    "print(hydrogen.name)\n",
    "print(hydrogen.symbol)\n",
    "print(hydrogen.number)\n"
   ]
  },
  {
   "attachments": {},
   "cell_type": "markdown",
   "metadata": {},
   "source": [
    "9. Define three classes: Bear, Rabbit, and Octothorpe. For each, define only one method: eats(). This should return 'berries' (Bear), 'clover' (Rabbit), or 'campers' (Octothorpe). Create one object from each and print what it eats.\n"
   ]
  },
  {
   "cell_type": "code",
   "execution_count": 9,
   "metadata": {},
   "outputs": [
    {
     "name": "stdout",
     "output_type": "stream",
     "text": [
      "berries\n",
      "clover\n",
      "campers\n"
     ]
    }
   ],
   "source": [
    "class Bear:\n",
    "    def eats(self):\n",
    "        return 'berries'\n",
    "\n",
    "class Rabbit:\n",
    "    def eats(self):\n",
    "        return 'clover'\n",
    "\n",
    "class Octothorpe:\n",
    "    def eats(self):\n",
    "        return 'campers'\n",
    "\n",
    "bear = Bear()\n",
    "rabbit = Rabbit()\n",
    "octothorpe = Octothorpe()\n",
    "\n",
    "print(bear.eats())\n",
    "print(rabbit.eats())\n",
    "print(octothorpe.eats())\n"
   ]
  },
  {
   "attachments": {},
   "cell_type": "markdown",
   "metadata": {},
   "source": [
    "10. Define these classes: Laser, Claw, and SmartPhone. Each has only one method: does(). This returns 'disintegrate' (Laser), 'crush' (Claw), or 'ring' (SmartPhone). Then, define the class Robot that has one instance (object) of each of these. Define a does() method for the Robot that prints what its component objects do."
   ]
  },
  {
   "cell_type": "code",
   "execution_count": 11,
   "metadata": {},
   "outputs": [],
   "source": [
    "class Laser:\n",
    "    def does(self):\n",
    "        return 'disintegrate'\n",
    "\n",
    "class Claw:\n",
    "    def does(self):\n",
    "        return 'crush'\n",
    "\n",
    "class SmartPhone:\n",
    "    def does(self):\n",
    "        return 'ring'\n",
    "\n",
    "class Robot:\n",
    "    def __init__(self):\n",
    "        self.laser = Laser()\n",
    "        self.claw = Claw()\n",
    "        self.smartphone = SmartPhone()\n",
    "\n",
    "    def does(self):\n",
    "        print(\"I am a robot. Here's what I can do:\")\n",
    "        print(f\"My laser can {self.laser.does()}.\")\n",
    "        print(f\"My claw can {self.claw.does()}.\")\n",
    "        print(f\"My smartphone can {self.smartphone.does()}.\")\n"
   ]
  },
  {
   "cell_type": "code",
   "execution_count": null,
   "metadata": {},
   "outputs": [],
   "source": [
    "\n"
   ]
  }
 ],
 "metadata": {
  "kernelspec": {
   "display_name": "base",
   "language": "python",
   "name": "python3"
  },
  "language_info": {
   "codemirror_mode": {
    "name": "ipython",
    "version": 3
   },
   "file_extension": ".py",
   "mimetype": "text/x-python",
   "name": "python",
   "nbconvert_exporter": "python",
   "pygments_lexer": "ipython3",
   "version": "3.9.12"
  },
  "orig_nbformat": 4
 },
 "nbformat": 4,
 "nbformat_minor": 2
}

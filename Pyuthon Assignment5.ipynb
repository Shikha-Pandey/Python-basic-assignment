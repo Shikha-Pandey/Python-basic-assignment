{
 "cells": [
  {
   "cell_type": "raw",
   "id": "c8381fbd",
   "metadata": {},
   "source": [
    "1.    What does an empty dictionary's code look like?\n",
    "\n",
    "Ans1  emptyDict = {}\n"
   ]
  },
  {
   "cell_type": "raw",
   "id": "4e51b887",
   "metadata": {},
   "source": [
    "2.      What does a dictionary value with a key 'foo' and a value 42 look like?\n",
    "\n",
    "Ans2.   {'foo': 42}\n"
   ]
  },
  {
   "cell_type": "raw",
   "id": "5d9adbfb",
   "metadata": {},
   "source": [
    "\n",
    "3.   What is the most significant distinction between a dictionary and a list?\n",
    "\n",
    "Ans  a)  List is a collection of index values pairs whereas Dictionary is a hashed structure of key and value pairs.\n",
    "     b)  List is created by placing elements in [ ] separated by commas “, “ whereas Dictionary is created by placing elements            in { } as  “key”:”value”, each key value pair is separated by commas “, “.\n",
    "     c)  The indices of list are integers starting from 0 whereas The keys of dictionary can be of any data type.\n",
    "     d)  The elements are accessed via indices whereas The elements in dictionary are accessed via key-values.\n",
    "     e)  The order of the elements entered are maintained whereas There is no guarantee for maintaining order in dictionary.\n",
    "      "
   ]
  },
  {
   "cell_type": "raw",
   "id": "b3940b80",
   "metadata": {},
   "source": [
    "4.   What happens if you try to access spam['foo'] if spam is {'bar': 100}?\n",
    "\n",
    "Ans. An error will occour KeyError: 'foo',as spam does not contain any key named 'foo'.\n"
   ]
  },
  {
   "cell_type": "raw",
   "id": "d9b4e10d",
   "metadata": {},
   "source": [
    "5.    If a dictionary is stored in spam, what is the difference between the expressions 'cat' in spam and 'cat' in spam.keys()?\n",
    "\n",
    "Ans5. 'cat' in spam and 'cat' in spam.keys() both will check whether there is a 'cat' key in the dictionary and will return True       if cat is present as a key in dictionary otherwise will return false .\n",
    "      "
   ]
  },
  {
   "cell_type": "raw",
   "id": "7fc52a89",
   "metadata": {},
   "source": [
    "6.    If a dictionary is stored in spam, what is the difference between the expressions 'cat' in spam and 'cat' in                     spam.values()?\n",
    "\n",
    "Ans.   'cat' in spam checks whether there is a 'cat' key in the dictionary and will return boolean value, while 'cat' in spam.          values() checks whether there is a value 'cat' for one of the keys in spam and will return boolean value accordingly."
   ]
  },
  {
   "cell_type": "raw",
   "id": "0805b011",
   "metadata": {},
   "source": [
    "7.     What is a shortcut for the following code?\n",
    "      if 'color' not in spam:\n",
    "      spam['color'] = 'black'\n",
    "\n",
    "Ans7. spam.setdefault('color', 'black')\n",
    "\n"
   ]
  },
  {
   "cell_type": "raw",
   "id": "8647ed22",
   "metadata": {},
   "source": [
    "8.     How do you \"pretty print\" dictionary values using which module and function?\n",
    "\n",
    "Ans8   pprint.pprint() "
   ]
  }
 ],
 "metadata": {
  "kernelspec": {
   "display_name": "Python 3 (ipykernel)",
   "language": "python",
   "name": "python3"
  },
  "language_info": {
   "codemirror_mode": {
    "name": "ipython",
    "version": 3
   },
   "file_extension": ".py",
   "mimetype": "text/x-python",
   "name": "python",
   "nbconvert_exporter": "python",
   "pygments_lexer": "ipython3",
   "version": "3.9.12"
  }
 },
 "nbformat": 4,
 "nbformat_minor": 5
}

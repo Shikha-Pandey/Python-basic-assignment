{
 "cells": [
  {
   "attachments": {},
   "cell_type": "markdown",
   "metadata": {},
   "source": [
    "#### 1. Create an assert statement that throws an AssertionError if the variable spam is a negative integer.\n",
    "Ans 1)"
   ]
  },
  {
   "cell_type": "code",
   "execution_count": 5,
   "metadata": {},
   "outputs": [
    {
     "ename": "AssertionError",
     "evalue": "spam should be a non-negative integer",
     "output_type": "error",
     "traceback": [
      "\u001b[1;31m---------------------------------------------------------------------------\u001b[0m",
      "\u001b[1;31mAssertionError\u001b[0m                            Traceback (most recent call last)",
      "\u001b[1;32mc:\\Users\\rohit\\OneDrive\\Desktop\\PythonAssignment11.ipynb Cell 2\u001b[0m in \u001b[0;36m<cell line: 2>\u001b[1;34m()\u001b[0m\n\u001b[0;32m      <a href='vscode-notebook-cell:/c%3A/Users/rohit/OneDrive/Desktop/PythonAssignment11.ipynb#X16sZmlsZQ%3D%3D?line=0'>1</a>\u001b[0m spam\u001b[39m=\u001b[39m\u001b[39m-\u001b[39m\u001b[39m3\u001b[39m\n\u001b[1;32m----> <a href='vscode-notebook-cell:/c%3A/Users/rohit/OneDrive/Desktop/PythonAssignment11.ipynb#X16sZmlsZQ%3D%3D?line=1'>2</a>\u001b[0m \u001b[39massert\u001b[39;00m spam \u001b[39m>\u001b[39m\u001b[39m=\u001b[39m \u001b[39m0\u001b[39m,\u001b[39m\"\u001b[39m\u001b[39mspam should be a non-negative integer\u001b[39m\u001b[39m\"\u001b[39m\n",
      "\u001b[1;31mAssertionError\u001b[0m: spam should be a non-negative integer"
     ]
    }
   ],
   "source": [
    "spam=-3\n",
    "assert spam >= 0,\"spam should be a non-negative integer\"\n"
   ]
  },
  {
   "attachments": {},
   "cell_type": "markdown",
   "metadata": {},
   "source": [
    "#### 2. Write an assert statement that triggers an AssertionError if the variables eggs and bacon contain strings that are the same as each other, even if their cases are different (that is, 'hello' and 'hello' are considered the same, and 'goodbye' and 'GOODbye' are also considered the same).\n",
    "Ans 2) "
   ]
  },
  {
   "cell_type": "code",
   "execution_count": 10,
   "metadata": {},
   "outputs": [
    {
     "ename": "AssertionError",
     "evalue": "occupation and profile should not be the same (case-insensitive)",
     "output_type": "error",
     "traceback": [
      "\u001b[1;31m---------------------------------------------------------------------------\u001b[0m",
      "\u001b[1;31mAssertionError\u001b[0m                            Traceback (most recent call last)",
      "\u001b[1;32mc:\\Users\\rohit\\OneDrive\\Desktop\\PythonAssignment11.ipynb Cell 4\u001b[0m in \u001b[0;36m<cell line: 3>\u001b[1;34m()\u001b[0m\n\u001b[0;32m      <a href='vscode-notebook-cell:/c%3A/Users/rohit/OneDrive/Desktop/PythonAssignment11.ipynb#X20sZmlsZQ%3D%3D?line=0'>1</a>\u001b[0m occupation\u001b[39m=\u001b[39m\u001b[39m\"\u001b[39m\u001b[39mEngineer\u001b[39m\u001b[39m\"\u001b[39m\n\u001b[0;32m      <a href='vscode-notebook-cell:/c%3A/Users/rohit/OneDrive/Desktop/PythonAssignment11.ipynb#X20sZmlsZQ%3D%3D?line=1'>2</a>\u001b[0m profile\u001b[39m=\u001b[39m\u001b[39m\"\u001b[39m\u001b[39mENGineer\u001b[39m\u001b[39m\"\u001b[39m\n\u001b[1;32m----> <a href='vscode-notebook-cell:/c%3A/Users/rohit/OneDrive/Desktop/PythonAssignment11.ipynb#X20sZmlsZQ%3D%3D?line=2'>3</a>\u001b[0m \u001b[39massert\u001b[39;00m occupation\u001b[39m.\u001b[39mlower() \u001b[39m!=\u001b[39m profile\u001b[39m.\u001b[39mlower(), \u001b[39m\"\u001b[39m\u001b[39moccupation and profile should not be the same (case-insensitive)\u001b[39m\u001b[39m\"\u001b[39m\n",
      "\u001b[1;31mAssertionError\u001b[0m: occupation and profile should not be the same (case-insensitive)"
     ]
    }
   ],
   "source": [
    "occupation=\"Engineer\"\n",
    "profile=\"ENGineer\"\n",
    "assert occupation.lower() != profile.lower(), \"occupation and profile should not be the same (case-insensitive)\"\n"
   ]
  },
  {
   "attachments": {},
   "cell_type": "markdown",
   "metadata": {},
   "source": [
    "#### 3. Create an assert statement that throws an AssertionError every time.\n"
   ]
  },
  {
   "cell_type": "code",
   "execution_count": 12,
   "metadata": {},
   "outputs": [
    {
     "ename": "AssertionError",
     "evalue": "This assertion always fails",
     "output_type": "error",
     "traceback": [
      "\u001b[1;31m---------------------------------------------------------------------------\u001b[0m",
      "\u001b[1;31mAssertionError\u001b[0m                            Traceback (most recent call last)",
      "\u001b[1;32mc:\\Users\\rohit\\OneDrive\\Desktop\\PythonAssignment11.ipynb Cell 6\u001b[0m in \u001b[0;36m<cell line: 1>\u001b[1;34m()\u001b[0m\n\u001b[1;32m----> <a href='vscode-notebook-cell:/c%3A/Users/rohit/OneDrive/Desktop/PythonAssignment11.ipynb#X21sZmlsZQ%3D%3D?line=0'>1</a>\u001b[0m \u001b[39massert\u001b[39;00m \u001b[39mFalse\u001b[39;00m, \u001b[39m\"\u001b[39m\u001b[39mThis assertion always fails\u001b[39m\u001b[39m\"\u001b[39m\n",
      "\u001b[1;31mAssertionError\u001b[0m: This assertion always fails"
     ]
    }
   ],
   "source": [
    "assert False, \"This assertion always fails\"\n"
   ]
  },
  {
   "attachments": {},
   "cell_type": "markdown",
   "metadata": {},
   "source": [
    "#### 4. What are the two lines that must be present in your software in order to call logging.debug()?\n",
    "Ans 4) In order to call logging.debug() method in your software, you need to have two lines present:\n",
    "\n",
    "1) Importing the logging module:\n",
    "2) Configuring the logging module:"
   ]
  },
  {
   "cell_type": "code",
   "execution_count": 13,
   "metadata": {},
   "outputs": [],
   "source": [
    "import logging\n",
    "logging.basicConfig(level=logging.DEBUG)\n"
   ]
  },
  {
   "attachments": {},
   "cell_type": "markdown",
   "metadata": {},
   "source": [
    "#### 5. What are the two lines that your program must have in order to have logging.debug() send a logging message to a file named programLog.txt?\n",
    "Ans 5) the two lines that your program must have in order to have logging.debug() send a logging message to a file named programLog.txt are:-\n"
   ]
  },
  {
   "cell_type": "code",
   "execution_count": 14,
   "metadata": {},
   "outputs": [],
   "source": [
    "import logging\n",
    "\n",
    "logging.basicConfig(filename='programLog.txt', level=logging.DEBUG)\n"
   ]
  },
  {
   "attachments": {},
   "cell_type": "markdown",
   "metadata": {},
   "source": [
    "#### 6. What are the five levels of logging?\n",
    "Ans 6) The logging module in Python provides five standard levels of severity for log messages, listed below in increasing order of severity:\n",
    "\n",
    "DEBUG: Detailed information for diagnostic purposes. Typically only enabled during development and debugging.\n",
    "\n",
    "INFO: Confirmation that things are working as expected.\n",
    "\n",
    "WARNING: An indication that something unexpected or undesirable has happened or indicative of some problem in the near future (e.g., ‘disk space low’). The software is still working as expected.\n",
    "\n",
    "ERROR: Due to a more serious problem, the software has not been able to perform some function.\n",
    "\n",
    "CRITICAL: A very serious error, indicating that the program itself may be unable to continue running.\n"
   ]
  },
  {
   "attachments": {},
   "cell_type": "markdown",
   "metadata": {},
   "source": [
    "#### 7. What line of code would you add to your software to disable all logging messages?\n",
    "Ans 7)\n"
   ]
  },
  {
   "cell_type": "code",
   "execution_count": 15,
   "metadata": {},
   "outputs": [],
   "source": [
    "logging.disable(logging.CRITICAL)"
   ]
  },
  {
   "attachments": {},
   "cell_type": "markdown",
   "metadata": {},
   "source": [
    "#### 8.Why is using logging messages better than using print() to display the same message?\n",
    "Ans 8)  using logging messages instead of print() statements can provide greater flexibility, efficiency, context, and extensibility, making it a better choice for most production applications.\n"
   ]
  },
  {
   "attachments": {},
   "cell_type": "markdown",
   "metadata": {},
   "source": [
    "#### 9. What are the differences between the Step Over, Step In, and Step Out buttons in the debugger?\n",
    "Ans 9) The Step Over, Step In, and Step Out buttons in the debugger are used to control the flow of execution of your code during debugging. Here are the differences between these three buttons:\n",
    "\n",
    "a) Step Over (or Next): This button allows you to execute the next line of code and move the debugger to the next line, without stepping into any functions or subroutines. If the current line of code contains a function call, that function will be executed, but the debugger will not enter the function and will return to the calling line after the function has completed.\n",
    "\n",
    "b) Step In (or Step): This button allows you to step into the next function call, and execute the code inside that function. If the current line of code does not contain a function call, this button behaves the same as the Step Over button. Once you enter the function, you can use the Step Over and Step Out buttons to control execution within the function.\n",
    "\n",
    "c) Step Out: This button allows you to step out of the current function and return to the calling line, executing all remaining lines in the function without stopping. This button is useful if you have stepped into a function and want to quickly return to the calling code, without executing every line of the function\n",
    "\n"
   ]
  },
  {
   "attachments": {},
   "cell_type": "markdown",
   "metadata": {},
   "source": [
    "#### 10.After you click Continue, when will the debugger stop ?\n",
    "Ans 10)  when you click the Continue button in the debugger, the debugger will continue running your code until it encounters a breakpoint, an unhandled exception, or the program completes execution. This allows you to step through your code and debug any issues that arise, while also allowing your code to run uninterrupted for normal program execution.\n"
   ]
  },
  {
   "attachments": {},
   "cell_type": "markdown",
   "metadata": {},
   "source": [
    "#### 11. What is the concept of a breakpoint?\n",
    "Ans 11) A breakpoint is a tool used in debugging to pause the execution of code at a specific line, allowing the programmer to examine the program's state at that point. Breakpoints are useful for isolating issues, gaining a better understanding of the flow of control, and setting conditional or trace breakpoints. Most modern IDEs and debuggers provide an interface for setting and managing breakpoints."
   ]
  }
 ],
 "metadata": {
  "kernelspec": {
   "display_name": "base",
   "language": "python",
   "name": "python3"
  },
  "language_info": {
   "name": "python",
   "version": "3.9.12"
  },
  "orig_nbformat": 4,
  "vscode": {
   "interpreter": {
    "hash": "835930cdab659cfe0998f909845533c8bce739076c1411aa039e952001a7acf8"
   }
  }
 },
 "nbformat": 4,
 "nbformat_minor": 2
}

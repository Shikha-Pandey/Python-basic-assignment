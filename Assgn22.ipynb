{
 "cells": [
  {
   "attachments": {},
   "cell_type": "markdown",
   "metadata": {},
   "source": [
    "1. What is the result of the code, and explain?\n",
    "\n",
    "\n",
    "X = 'iNeuron'\n",
    "def func():\n",
    "print(X)\n",
    "\n",
    "\n",
    "func()\n",
    "\n",
    "Ans1. The code defines a variable X with a value of 'iNeuron' and a function called func that prints the value of X. When the function is called, it prints 'iNeuron' because X is in the global scope and is accessible inside the function.\n"
   ]
  },
  {
   "cell_type": "code",
   "execution_count": 1,
   "metadata": {},
   "outputs": [
    {
     "name": "stdout",
     "output_type": "stream",
     "text": [
      "iNeuron\n"
     ]
    }
   ],
   "source": [
    "X = 'iNeuron'\n",
    "def func():\n",
    "    print(X)\n",
    "\n",
    "\n",
    "func()"
   ]
  },
  {
   "attachments": {},
   "cell_type": "markdown",
   "metadata": {},
   "source": [
    "2. What is the result of the code, and explain?\n",
    "\n",
    "\n",
    "X = 'iNeuron'\n",
    "def func():\n",
    "    X = 'NI!'\n",
    "\n",
    "\n",
    "func()\n",
    "print(X)\n",
    "\n",
    "\n",
    "Ans2. The code defines a variable X with a value of 'iNeuron' and a function called func that defines a new variable X with a value of 'NI!'. When the function is called, it doesn't print anything because there's no print statement. The following print statement outside the function prints 'iNeuron' because X is still the global variable with that value.\n",
    "\n"
   ]
  },
  {
   "cell_type": "code",
   "execution_count": 2,
   "metadata": {},
   "outputs": [
    {
     "name": "stdout",
     "output_type": "stream",
     "text": [
      "iNeuron\n"
     ]
    }
   ],
   "source": [
    "X = 'iNeuron'\n",
    "def func():\n",
    "    X = 'NI!'\n",
    "\n",
    "\n",
    "func()\n",
    "print(X)"
   ]
  },
  {
   "attachments": {},
   "cell_type": "markdown",
   "metadata": {},
   "source": [
    "3. What does this code print, and why?\n",
    "\n",
    "\n",
    "X = 'iNeuron'\n",
    "def func():\n",
    "    X = 'NI'\n",
    "print(X)\n",
    "\n",
    "\n",
    "func()\n",
    "print(X)\n",
    "\n",
    "\n",
    "Ans3. The code defines a variable X with a value of 'iNeuron' and a function called func that defines a new variable X with a value of 'NI'. When the function is called, it prints 'NI' because X inside the function is a local variable that shadows the global variable X. The following print statement outside the function prints 'iNeuron' because X in the global scope is still the same."
   ]
  },
  {
   "cell_type": "code",
   "execution_count": 3,
   "metadata": {},
   "outputs": [
    {
     "name": "stdout",
     "output_type": "stream",
     "text": [
      "iNeuron\n",
      "iNeuron\n"
     ]
    }
   ],
   "source": [
    "X = 'iNeuron'\n",
    "def func():\n",
    "    X = 'NI'\n",
    "print(X)\n",
    "\n",
    "\n",
    "func()\n",
    "print(X)"
   ]
  },
  {
   "attachments": {},
   "cell_type": "markdown",
   "metadata": {},
   "source": [
    "4. What output does this code produce? Why?\n",
    "\n",
    "\n",
    "X = 'iNeuron'\n",
    "def func():\n",
    "    global X\n",
    "    X = 'NI'\n",
    "\n",
    "\n",
    "func()\n",
    "print(X)\n",
    "\n",
    "Ans 4. The code defines a variable X with a value of 'iNeuron' and a function called func that uses the \"global\" keyword to indicate that it's going to modify the global X variable. Inside the function, X is changed to 'NI'. When the function is called, it modifies the global X variable and doesn't return anything. The following print statement outside the function prints 'NI' because X in the global scope has been modified."
   ]
  },
  {
   "cell_type": "code",
   "execution_count": 4,
   "metadata": {},
   "outputs": [
    {
     "name": "stdout",
     "output_type": "stream",
     "text": [
      "NI\n"
     ]
    }
   ],
   "source": [
    "X = 'iNeuron'\n",
    "def func():\n",
    "    global X\n",
    "    X = 'NI'\n",
    "\n",
    "\n",
    "func()\n",
    "print(X)"
   ]
  },
  {
   "attachments": {},
   "cell_type": "markdown",
   "metadata": {},
   "source": [
    "5. What about this code—what’s the output, and why?\n",
    "\n",
    "\n",
    "X = 'iNeuron'\n",
    "def func():\n",
    "    X = 'NI'\n",
    "def nested():\n",
    "    print(X)\n",
    "nested()\n",
    "\n",
    "\n",
    "func()\n",
    "X\n",
    "\n",
    "Ans5. The code defines a variable X with a value of 'iNeuron' and a function called func that defines a new variable X with a value of 'NI' and a nested function called nested that prints X. When the function is called, it calls the nested function, which prints 'NI' because X inside nested is a local variable that shadows the global variable X. The following expression outside the function returns 'iNeuron' because X in the global scope is still the same."
   ]
  },
  {
   "cell_type": "code",
   "execution_count": 5,
   "metadata": {},
   "outputs": [
    {
     "name": "stdout",
     "output_type": "stream",
     "text": [
      "iNeuron\n"
     ]
    },
    {
     "data": {
      "text/plain": [
       "'iNeuron'"
      ]
     },
     "execution_count": 5,
     "metadata": {},
     "output_type": "execute_result"
    }
   ],
   "source": [
    "X = 'iNeuron'\n",
    "def func():\n",
    "    X = 'NI'\n",
    "def nested():\n",
    "    print(X)\n",
    "nested()\n",
    "\n",
    "\n",
    "func()\n",
    "X"
   ]
  },
  {
   "attachments": {},
   "cell_type": "markdown",
   "metadata": {},
   "source": [
    "6. How about this code: what is its output in Python 3, and explain?\n",
    "\n",
    "\n",
    "def func():\n",
    "    X = 'NI'\n",
    "def nested():\n",
    "    nonlocal X\n",
    "X = 'Spam'\n",
    "nested()\n",
    "print(X)\n",
    "\n",
    "\n",
    "func()\n",
    "\n",
    "Ans6. \n",
    "The code defines a function called func that defines a variable X with a value of 'NI' and a nested function called nested that uses the \"nonlocal\" keyword to indicate that it's going to modify the X variable in the outer scope. Inside nested, X is changed to 'Spam'. When the function is called, it calls the nested function, which modifies X and doesn't return anything. Finally, the outer print statement prints 'Spam' because X in the outer scope has been modified by nested. Note that this code will raise a SyntaxError in Python 2 because the \"nonlocal\" keyword was introduced in Python 3."
   ]
  },
  {
   "cell_type": "code",
   "execution_count": 7,
   "metadata": {},
   "outputs": [
    {
     "name": "stdout",
     "output_type": "stream",
     "text": [
      "Spam\n"
     ]
    }
   ],
   "source": [
    "\n",
    "def func():\n",
    "    X = 'NI'\n",
    "def nested():\n",
    "    X\n",
    "X = 'Spam'\n",
    "nested()\n",
    "print(X)\n",
    "\n",
    "\n",
    "func()"
   ]
  },
  {
   "cell_type": "code",
   "execution_count": null,
   "metadata": {},
   "outputs": [],
   "source": []
  }
 ],
 "metadata": {
  "kernelspec": {
   "display_name": "base",
   "language": "python",
   "name": "python3"
  },
  "language_info": {
   "codemirror_mode": {
    "name": "ipython",
    "version": 3
   },
   "file_extension": ".py",
   "mimetype": "text/x-python",
   "name": "python",
   "nbconvert_exporter": "python",
   "pygments_lexer": "ipython3",
   "version": "3.9.12"
  },
  "orig_nbformat": 4
 },
 "nbformat": 4,
 "nbformat_minor": 2
}

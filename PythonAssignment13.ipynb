{
 "cells": [
  {
   "attachments": {},
   "cell_type": "markdown",
   "metadata": {},
   "source": [
    "##### 1. What advantages do Excel spreadsheets have over CSV spreadsheets?\n",
    "Ans 1) Excel spreadsheets have several advantages over CSV (Comma Separated Value) spreadsheets:\n",
    "\n",
    "Formatting: Excel allows you to apply formatting such as fonts, colors, borders, and alignment to the data in the spreadsheet. This makes it easier to read and interpret the data, and can also make the spreadsheet look more professional.\n",
    "\n",
    "Formulas and Functions: Excel allows you to perform calculations on the data using built-in formulas and functions. This can be useful for performing complex calculations or for analyzing large amounts of data.\n",
    "\n",
    "Charts and Graphs: Excel allows you to create charts and graphs from the data in the spreadsheet. This can be useful for visualizing trends or patterns in the data.\n",
    "\n",
    "Data Validation: Excel allows you to apply data validation rules to the data in the spreadsheet. This can help to ensure that the data is entered correctly and can also help to prevent errors.\n",
    "\n",
    "Filtering and Sorting: Excel allows you to filter and sort the data in the spreadsheet. This can be useful for quickly finding specific data or for organizing the data in a specific way.\n",
    "\n",
    "Collaboration: Excel allows multiple users to work on the same spreadsheet at the same time. This can be useful for teams or organizations that need to collaborate on data.\n",
    "\n"
   ]
  },
  {
   "attachments": {},
   "cell_type": "markdown",
   "metadata": {},
   "source": [
    "##### 2.What do you pass to csv.reader() and csv.writer() to create reader and writer objects?\n",
    "Ans 2) To create reader and writer objects using the csv module in Python, we need to pass a file object to the csv.reader() and csv.writer() functions.\n",
    "eg\n",
    "import csv\n",
    "\n",
    "###### Open a CSV file in read mode\n",
    "with open('my_file.csv', 'r') as file:\n",
    "\n",
    "    # Create a reader object\n",
    "\n",
    "    reader = csv.reader(file)\n",
    "\n",
    "###### Open a CSV file in write mode\n",
    "with open('my_file.csv', 'w', newline='') as file:\n",
    "\n",
    "    # Create a writer object\n",
    "    \n",
    "    writer = csv.writer(file)\n",
    "\n"
   ]
  },
  {
   "attachments": {},
   "cell_type": "markdown",
   "metadata": {},
   "source": [
    "##### 3. What modes do File objects for reader and writer objects need to be opened in?\n",
    "Ans 3) When creating reader and writer objects using the csv module in Python, you need to open the file in the appropriate mode depending on whether you are reading from or writing to the file.\n",
    "\n",
    "For a reader object, you need to open the file in read mode ('r'). This is because the reader object reads data from the file.\n",
    "\n",
    "For a writer object, you need to open the file in write mode ('w'). This is because the writer object writes data to the file."
   ]
  },
  {
   "attachments": {},
   "cell_type": "markdown",
   "metadata": {},
   "source": [
    "##### 4. What method takes a list argument and writes it to a CSV file?\n",
    "Ans 4)  The csv.writer method in Python's built-in csv module can take a list argument and write it to a CSV file. The method accepts a file object as its first argument and a list of values as its second argument.\n",
    "eg\n"
   ]
  },
  {
   "cell_type": "code",
   "execution_count": 2,
   "metadata": {},
   "outputs": [],
   "source": [
    "import csv\n",
    "\n",
    "my_list = [\"apple\", \"banana\", \"orange\"]\n",
    "\n",
    "with open(\"my_file.csv\", mode=\"w\", newline=\"\") as file:\n",
    "    writer = csv.writer(file)\n",
    "    writer.writerow(my_list)\n"
   ]
  },
  {
   "attachments": {},
   "cell_type": "markdown",
   "metadata": {},
   "source": [
    "##### 5. What do the keyword arguments delimiter and line terminator do?\n",
    "Ans 5) The keyword argument delimiter specifies the character used to separate fields in a CSV file, and the line terminator specifies the character used to terminate lines in the file.\n"
   ]
  },
  {
   "attachments": {},
   "cell_type": "markdown",
   "metadata": {},
   "source": [
    "##### 6. What function takes a string of JSON data and returns a Python data structure?\n",
    "Ans 6) he function that takes a string of JSON data and returns a Python data structure is json.loads()\n"
   ]
  },
  {
   "attachments": {},
   "cell_type": "markdown",
   "metadata": {},
   "source": [
    "##### 7. What function takes a Python data structure and returns a string of JSON data?\n",
    "Ans 7) The function that takes a Python data structure and returns a string of JSON data is json.dumps()."
   ]
  },
  {
   "cell_type": "markdown",
   "metadata": {},
   "source": []
  }
 ],
 "metadata": {
  "kernelspec": {
   "display_name": "base",
   "language": "python",
   "name": "python3"
  },
  "language_info": {
   "codemirror_mode": {
    "name": "ipython",
    "version": 3
   },
   "file_extension": ".py",
   "mimetype": "text/x-python",
   "name": "python",
   "nbconvert_exporter": "python",
   "pygments_lexer": "ipython3",
   "version": "3.9.12"
  },
  "orig_nbformat": 4,
  "vscode": {
   "interpreter": {
    "hash": "835930cdab659cfe0998f909845533c8bce739076c1411aa039e952001a7acf8"
   }
  }
 },
 "nbformat": 4,
 "nbformat_minor": 2
}

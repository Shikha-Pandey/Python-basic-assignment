{
 "cells": [
  {
   "cell_type": "raw",
   "id": "25da4d85",
   "metadata": {},
   "source": [
    "1.    What exactly is []?\n",
    "\n",
    "Ans1  [] are Index brackets and have many uses in Python.They are used to define \"list literals,\" allowing you to declare a list       and its contents in your program. Index brackets are also used to write expressions that evaluate to a single item within       a list, or a single character in a string\n"
   ]
  },
  {
   "cell_type": "raw",
   "id": "c1085e4f",
   "metadata": {},
   "source": [
    "2.   In a list of values stored in a variable called spam, how would you assign the value 'hello' as the third value? (Assume        [2,4, 6, 8, 10] are in spam.)\n",
    "\n",
    "Ans. spam[2]='hello'\n"
   ]
  },
  {
   "cell_type": "raw",
   "id": "193854c2",
   "metadata": {},
   "source": [
    "3.    Let's pretend the spam includes the list ['a', 'b', 'c', 'd'] for the next three queries.\n",
    "      What is the value of spam[int(int('3' * 2) / 11)]?\n",
    "  \n",
    "Ans3. 'd'\n"
   ]
  },
  {
   "cell_type": "raw",
   "id": "8490f481",
   "metadata": {},
   "source": [
    "4.    What is the value of spam[-1]?\n",
    "\n",
    "And. 'd'"
   ]
  },
  {
   "cell_type": "raw",
   "id": "131ee538",
   "metadata": {},
   "source": [
    "5.     What is the value of spam[:2]?\n",
    "Ans5.  ['a', 'b]'\n",
    "\n"
   ]
  },
  {
   "cell_type": "raw",
   "id": "207f5c8f",
   "metadata": {},
   "source": [
    "Let's pretend bacon has the list [3.14, 'cat,' 11, 'cat,' True] for the next three questions.\n",
    "\n",
    "6.    What is the value of bacon.index('cat')?\n",
    "\n",
    "Ans.  1\n"
   ]
  },
  {
   "cell_type": "raw",
   "id": "b10e670b",
   "metadata": {},
   "source": [
    "7.     How does bacon.append(99) change the look of the list value in bacon?\n",
    "\n",
    "Ans7.  bacon.append(99) will add 99  to the end of the list.\n",
    "       bacon=[3.14, 'cat', 11, 'cat', True, 99]\n"
   ]
  },
  {
   "cell_type": "raw",
   "id": "ad6ec906",
   "metadata": {},
   "source": [
    "8.    How does bacon.remove('cat') change the look of the list in bacon?\n",
    "\n",
    "Ans8. It will remove the 'Cat'  from the 1st index of the list.\n",
    "      bacon=[3.14, 11, 'cat', True]\n",
    "\n",
    "      \n"
   ]
  },
  {
   "cell_type": "raw",
   "id": "950bacd9",
   "metadata": {},
   "source": [
    "9.     What are the list concatenation and list replication operators?\n",
    "\n",
    "Ans9.  list concatenation  operator is (+). The '+=' operator can be used to concatenate two lists.\n",
    "       the * operator is list replication operator and can do string and list replication.\n",
    "\n"
   ]
  },
  {
   "cell_type": "code",
   "execution_count": 49,
   "id": "55df5d83",
   "metadata": {},
   "outputs": [
    {
     "data": {
      "text/plain": [
       "['Pyhon', 'Java']"
      ]
     },
     "execution_count": 49,
     "metadata": {},
     "output_type": "execute_result"
    }
   ],
   "source": [
    "#eg for string concatination\n",
    "x=['Pyhon']\n",
    "y=['Java']\n",
    "\n",
    "z=x+y\n",
    "z"
   ]
  },
  {
   "cell_type": "code",
   "execution_count": 47,
   "id": "609b2e8e",
   "metadata": {},
   "outputs": [
    {
     "data": {
      "text/plain": [
       "['Python', 'Python', 'Python']"
      ]
     },
     "execution_count": 47,
     "metadata": {},
     "output_type": "execute_result"
    }
   ],
   "source": [
    "#eg for list replication\n",
    "x = ['Python']\n",
    "x *= 3\n",
    "x"
   ]
  },
  {
   "cell_type": "raw",
   "id": "45dc6db3",
   "metadata": {},
   "source": [
    "10. What is difference between the list methods append() and insert()?\n",
    "\n",
    "Ans10. append() adds an item to the end of the list,whereas insert()  insert a list item at a specified index.\n",
    "       egs are given below\n"
   ]
  },
  {
   "cell_type": "code",
   "execution_count": 20,
   "id": "5737a7dc",
   "metadata": {},
   "outputs": [
    {
     "name": "stdout",
     "output_type": "stream",
     "text": [
      "['Java', 'C', 'C++', 'Python']\n"
     ]
    }
   ],
   "source": [
    "#example for append()\n",
    "\n",
    "thislist = [\"Java\", \"C\", \"C++\"]\n",
    "thislist.append(\"Python\")\n",
    "print(thislist)"
   ]
  },
  {
   "cell_type": "code",
   "execution_count": 18,
   "id": "1808fd08",
   "metadata": {},
   "outputs": [
    {
     "name": "stdout",
     "output_type": "stream",
     "text": [
      "['Java', 'Python', 'C', 'C++']\n"
     ]
    }
   ],
   "source": [
    "#example for insert()\n",
    "\n",
    "thislist = [\"Java\", \"C\", \"C++\"]\n",
    "thislist.insert(1, \"Python\")\n",
    "print(thislist)"
   ]
  },
  {
   "cell_type": "raw",
   "id": "211d002a",
   "metadata": {},
   "source": [
    "11. What are the two methods for removing items from a list?\n",
    "\n",
    "Ans11. remove() and pop() are the two methods for removing items from a list.\n",
    "       The remove() method removes the specified item whereas The pop() method removes the specified index.\n"
   ]
  },
  {
   "cell_type": "code",
   "execution_count": 21,
   "id": "2ce3c8b4",
   "metadata": {},
   "outputs": [
    {
     "name": "stdout",
     "output_type": "stream",
     "text": [
      "['Java', 'C++', 'python']\n"
     ]
    }
   ],
   "source": [
    "#example for remove()\n",
    "\n",
    "thislist = [\"Java\", \"C\", \"C++\",\"python\"]\n",
    "thislist.remove(\"C\")\n",
    "print(thislist)\n"
   ]
  },
  {
   "cell_type": "code",
   "execution_count": 22,
   "id": "84c29d39",
   "metadata": {},
   "outputs": [
    {
     "name": "stdout",
     "output_type": "stream",
     "text": [
      "['Java', 'C++', 'python']\n"
     ]
    }
   ],
   "source": [
    "#example for pop()\n",
    "\n",
    "thislist = [\"Java\", \"C\", \"C++\",\"python\"]\n",
    "thislist.pop(1)\n",
    "print(thislist)"
   ]
  },
  {
   "cell_type": "raw",
   "id": "2954b3f9",
   "metadata": {},
   "source": [
    "12.    Describe how list values and string values are identical.\n",
    "\n",
    "Ans12. A string is a sequence of characters. A list a sequence of values which can be characters, integers or even another              list.Both strings and lists have lengths: a string's length is the number of characters in the string; a list's length is        the number of items in the list.Each character in a string as well as each item in a list has a position, which is              called an index.\n"
   ]
  },
  {
   "cell_type": "raw",
   "id": "7ad4fae7",
   "metadata": {},
   "source": [
    "13.    What's the difference between tuples and lists?\n",
    "Ans13. it is possible to change a list but we cannot change tuple.\n",
    "       The primary difference between tuples and lists is that tuples are immutable whereas lists which are mutable.\n"
   ]
  },
  {
   "cell_type": "raw",
   "id": "093603ae",
   "metadata": {},
   "source": [
    "14.    How do you type a tuple value that only contains the integer 42?\n",
    "\n",
    "Ans14  tup1=(42,)"
   ]
  },
  {
   "cell_type": "raw",
   "id": "727cb886",
   "metadata": {},
   "source": [
    "15.   How do you get a list value's tuple form? How do you get a tuple value's list form?\n",
    "\n",
    "Ans   tuple(['java', 'python', 2])\n",
    "\n",
    "     list(('java', 'python', 5))"
   ]
  },
  {
   "cell_type": "raw",
   "id": "468143f1",
   "metadata": {},
   "source": [
    "16. Variables that \"contain\" list values are not necessarily lists themselves. Instead, what do they contain?\n",
    "\n",
    "Ans. Variables will contain references to list values rather than list values themselves."
   ]
  },
  {
   "cell_type": "raw",
   "id": "35dcac5e",
   "metadata": {},
   "source": [
    "17. How do you distinguish between copy.copy() and copy.deepcopy()?\n",
    "\n",
    "Ans17. A shallow copy is a copy of an object that stores the reference of the original elements. It creates the new collection          object and then occupying it with reference to the child objects found in the original.\n",
    "\n",
    "       A deep copy is a process where we create a new object and add copy elements recursively. We will use the deecopy() method        which present in copy module. The independent copy is created of original object and its entire object.\n",
    "       \n",
    "       examples are given below:-"
   ]
  },
  {
   "cell_type": "code",
   "execution_count": 40,
   "id": "7a3f782c",
   "metadata": {},
   "outputs": [
    {
     "name": "stdout",
     "output_type": "stream",
     "text": [
      "The original elements before shallow copying\n",
      "1 7 [3, 5] 8 \r\n",
      "The original elements after shallow copying\n",
      "1 7 [10, 5] 8 "
     ]
    }
   ],
   "source": [
    "#example for copy.copy()\n",
    "\n",
    "list1 = [1, 7, [3,5], 8]   \n",
    " \n",
    "list2 = copy.copy(list1)   \n",
    "  \n",
    "print (\"The original elements before shallow copying\")   \n",
    "for i in range(0,len(list1)):   \n",
    "    print (list1[i],end=\" \")   \n",
    "print(\"\\r\")   \n",
    "  \n",
    "\n",
    "list2[2][0] = 10  \n",
    "  \n",
    "print(\"The original elements after shallow copying\")   \n",
    "for i in range(0,len( list1)):   \n",
    "    print (list1[i],end=\" \")    "
   ]
  },
  {
   "cell_type": "code",
   "execution_count": 34,
   "id": "b83f5da4",
   "metadata": {},
   "outputs": [
    {
     "name": "stdout",
     "output_type": "stream",
     "text": [
      "[[1, 2, 3], [4, 5, 6], [7, 8, 9]]\n",
      "[[1, 2, 3], [4, 5, 6], [7, 8, 9]]\n"
     ]
    }
   ],
   "source": [
    "# example for copy.deepcopy()\n",
    "\n",
    "import copy  \n",
    "x = [[1, 2, 3], [4, 5, 6], [7, 8, 9]]  \n",
    "z = copy.deepcopy(x)  \n",
    "print(x)  \n",
    "print(z)  "
   ]
  },
  {
   "cell_type": "raw",
   "id": "e0381fdd",
   "metadata": {},
   "source": []
  },
  {
   "cell_type": "raw",
   "id": "4953f7d7",
   "metadata": {},
   "source": []
  },
  {
   "cell_type": "raw",
   "id": "a0a6f63c",
   "metadata": {},
   "source": []
  }
 ],
 "metadata": {
  "kernelspec": {
   "display_name": "Python 3 (ipykernel)",
   "language": "python",
   "name": "python3"
  },
  "language_info": {
   "codemirror_mode": {
    "name": "ipython",
    "version": 3
   },
   "file_extension": ".py",
   "mimetype": "text/x-python",
   "name": "python",
   "nbconvert_exporter": "python",
   "pygments_lexer": "ipython3",
   "version": "3.9.12"
  }
 },
 "nbformat": 4,
 "nbformat_minor": 5
}

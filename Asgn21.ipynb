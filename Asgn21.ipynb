{
 "cells": [
  {
   "attachments": {},
   "cell_type": "markdown",
   "metadata": {},
   "source": [
    "1. Add the current date to the text file today.txt as a string."
   ]
  },
  {
   "cell_type": "code",
   "execution_count": 4,
   "metadata": {},
   "outputs": [],
   "source": [
    "from datetime import datetime\n",
    "\n",
    "with open('today.txt', 'w') as file:\n",
    "    file.write(str(datetime.today()))"
   ]
  },
  {
   "attachments": {},
   "cell_type": "markdown",
   "metadata": {},
   "source": [
    "2. Read the text file today.txt into the string today_string\n"
   ]
  },
  {
   "cell_type": "code",
   "execution_count": 5,
   "metadata": {},
   "outputs": [
    {
     "name": "stdout",
     "output_type": "stream",
     "text": [
      "2023-04-04 01:09:16.067883\n"
     ]
    }
   ],
   "source": [
    "with open('today.txt', 'r') as file:\n",
    "    today_string = file.read()\n",
    "\n",
    "print(today_string)"
   ]
  },
  {
   "attachments": {},
   "cell_type": "markdown",
   "metadata": {},
   "source": [
    "3. Parse the date from today_string.\n"
   ]
  },
  {
   "cell_type": "code",
   "execution_count": 6,
   "metadata": {},
   "outputs": [
    {
     "name": "stdout",
     "output_type": "stream",
     "text": [
      "2023-04-04 01:09:16.067883\n"
     ]
    }
   ],
   "source": [
    "\n",
    "today_date = datetime.strptime(today_string, '%Y-%m-%d %H:%M:%S.%f')\n",
    "print(today_date)"
   ]
  },
  {
   "attachments": {},
   "cell_type": "markdown",
   "metadata": {},
   "source": [
    "4. List the files in your current directory\n"
   ]
  },
  {
   "cell_type": "code",
   "execution_count": 7,
   "metadata": {},
   "outputs": [
    {
     "name": "stdout",
     "output_type": "stream",
     "text": [
      "['asgn17.ipynb', 'Asgn21.ipynb', 'Assgn14.ipynb', 'Assgn15.ipynb', 'Assgn16.ipynb', 'assgn18.ipynb', 'assgn19.ipynb', 'assgn20.ipynb', 'books.csv', 'books.db', 'iNeuron PythonAssignment', 'iNeuron PythonAssignment7.ipynb', 'Python Assignment 1.ipynb', 'Python Assignment 2.ipynb', 'Python Assignment4.ipynb', 'PythonAssignment10.ipynb', 'PythonAssignment11.ipynb', 'PythonAssignment12.ipynb', 'PythonAssignment13.ipynb', 'PythonAssignment6.ipynb', 'PythonAssignment9.ipynb', 'Pyuthon Assignment5.ipynb', 'Pyuthon Assignment8.ipynb', 'test.txt', 'today.txt', 'zoo.py', '__pycache__']\n"
     ]
    }
   ],
   "source": [
    "\n",
    "import os\n",
    "\n",
    "files = os.listdir('.')\n",
    "print(files)\n"
   ]
  },
  {
   "attachments": {},
   "cell_type": "markdown",
   "metadata": {},
   "source": [
    "5. Create a list of all of the files in your parent directory (minimum five files should be available).\n"
   ]
  },
  {
   "cell_type": "code",
   "execution_count": 8,
   "metadata": {},
   "outputs": [
    {
     "name": "stdout",
     "output_type": "stream",
     "text": [
      "['Adobe Acrobat.lnk', 'desktop.ini', 'desktop_docs', 'Discord.lnk', 'EDA Projectss', 'GitHub Desktop.lnk', 'iNeuron ML Assignment', 'mySQLP', 'Programming Assignment', 'pysparkprac.ipynb', 'Pyuthon Assignment', 'Shikha resume', 'Start Tor Browser.lnk', 'Tableau Project', 'VE Project 1.mp4.wfp', 'VE Project 1.wfp', 'Zoom.lnk']\n"
     ]
    }
   ],
   "source": [
    "parent_files = os.listdir('..')\n",
    "print(parent_files)\n",
    "\n"
   ]
  },
  {
   "attachments": {},
   "cell_type": "markdown",
   "metadata": {},
   "source": [
    "6. Use multiprocessing to create three separate processes. Make each one wait a random number of seconds between one and five, print the current time, and then exit.\n"
   ]
  },
  {
   "cell_type": "code",
   "execution_count": 9,
   "metadata": {},
   "outputs": [],
   "source": [
    "import multiprocessing\n",
    "import random\n",
    "import time\n",
    "\n",
    "def worker():\n",
    "    wait_time = random.randint(1, 5)\n",
    "    time.sleep(wait_time)\n",
    "    print(f\"Process {multiprocessing.current_process().name} waited for {wait_time} seconds and exited at {datetime.now()}\")\n",
    "\n",
    "if __name__ == '__main__':\n",
    "    for i in range(3):\n",
    "        p = multiprocessing.Process(target=worker)\n",
    "        p.start()\n"
   ]
  },
  {
   "attachments": {},
   "cell_type": "markdown",
   "metadata": {},
   "source": [
    "7. Create a date object of your day of birth.\n"
   ]
  },
  {
   "cell_type": "code",
   "execution_count": 13,
   "metadata": {},
   "outputs": [
    {
     "name": "stdout",
     "output_type": "stream",
     "text": [
      "1994-08-26 00:00:00\n"
     ]
    }
   ],
   "source": [
    "birth_date = datetime(1994, 8, 26)\n",
    "print(birth_date)\n"
   ]
  },
  {
   "attachments": {},
   "cell_type": "markdown",
   "metadata": {},
   "source": [
    "8. What day of the week was your day of birth?\n"
   ]
  },
  {
   "cell_type": "code",
   "execution_count": 14,
   "metadata": {},
   "outputs": [
    {
     "name": "stdout",
     "output_type": "stream",
     "text": [
      "Friday\n"
     ]
    }
   ],
   "source": [
    "print(birth_date.strftime('%A'))\n"
   ]
  },
  {
   "attachments": {},
   "cell_type": "markdown",
   "metadata": {},
   "source": [
    "9. When will you be (or when were you) 10,000 days old?"
   ]
  },
  {
   "cell_type": "code",
   "execution_count": 15,
   "metadata": {},
   "outputs": [
    {
     "name": "stdout",
     "output_type": "stream",
     "text": [
      "2022-01-11 00:00:00\n"
     ]
    }
   ],
   "source": [
    "from datetime import timedelta\n",
    "\n",
    "ten_thousand_days = birth_date + timedelta(days=10000)\n",
    "print(ten_thousand_days)\n"
   ]
  },
  {
   "cell_type": "code",
   "execution_count": null,
   "metadata": {},
   "outputs": [],
   "source": []
  }
 ],
 "metadata": {
  "kernelspec": {
   "display_name": "base",
   "language": "python",
   "name": "python3"
  },
  "language_info": {
   "codemirror_mode": {
    "name": "ipython",
    "version": 3
   },
   "file_extension": ".py",
   "mimetype": "text/x-python",
   "name": "python",
   "nbconvert_exporter": "python",
   "pygments_lexer": "ipython3",
   "version": "3.9.12"
  },
  "orig_nbformat": 4
 },
 "nbformat": 4,
 "nbformat_minor": 2
}
